{
 "cells": [
  {
   "cell_type": "markdown",
   "id": "e280cb79",
   "metadata": {},
   "source": [
    "# IMDB CSV file in MYSQLite\n",
    "### NUPRIYA saxena\n",
    "#### Internship -34\n",
    "##### Batch-DS0622"
   ]
  },
  {
   "cell_type": "markdown",
   "id": "bb52284a",
   "metadata": {},
   "source": [
    "# capstone project\n",
    "### Mysqlite data"
   ]
  },
  {
   "cell_type": "markdown",
   "id": "f48a4767",
   "metadata": {},
   "source": [
    "<b>Make two tables and corresponding columns provided in the above CSV files in SQLite.Insert all data of each CSV file in each of the created tables. Now start querying the table(s) in the SQLite database :<b>"
   ]
  },
  {
   "cell_type": "code",
   "execution_count": 117,
   "id": "bb8f84db",
   "metadata": {},
   "outputs": [],
   "source": [
    "# Import required modules\n",
    "import csv\n",
    "import sqlite3"
   ]
  },
  {
   "cell_type": "code",
   "execution_count": 118,
   "id": "69f20f7a",
   "metadata": {},
   "outputs": [],
   "source": [
    "# Connecting to the database\n",
    "connection = sqlite3.connect('IMDB.db')"
   ]
  },
  {
   "cell_type": "code",
   "execution_count": 119,
   "id": "8ed51b8c",
   "metadata": {},
   "outputs": [],
   "source": [
    "# Creating a cursor object to execute\n",
    "# SQL queries on a database table\n",
    "cursor = connection.cursor()"
   ]
  },
  {
   "cell_type": "code",
   "execution_count": 23,
   "id": "47d05648",
   "metadata": {},
   "outputs": [],
   "source": [
    "# Table Definition\n",
    "createtable = '''CREATE TABLE firstData(Sno int ,\n",
    "                movie_Name text PRIMARY KEY ,\n",
    "                Director_name text ,\n",
    "                Run_Time text ,\n",
    "                Year int ,\n",
    "                Ratings float ,\n",
    "                metascore int);\n",
    "                '''"
   ]
  },
  {
   "cell_type": "code",
   "execution_count": null,
   "id": "8a45a5f7",
   "metadata": {},
   "outputs": [],
   "source": [
    "# Creating the table into our\n",
    "# database\n",
    "cursor.execute(createtable)"
   ]
  },
  {
   "cell_type": "code",
   "execution_count": 120,
   "id": "9b13a5ab",
   "metadata": {},
   "outputs": [],
   "source": [
    "# Opening the firstdata-records.csv file\n",
    "firstfile = open('firstdata.csv')"
   ]
  },
  {
   "cell_type": "code",
   "execution_count": 121,
   "id": "92c82b15",
   "metadata": {},
   "outputs": [],
   "source": [
    "# Reading the contents of the\n",
    "# firstdata-records.csv file\n",
    "contents = csv.reader(firstfile)\n",
    " "
   ]
  },
  {
   "cell_type": "code",
   "execution_count": 6,
   "id": "f3544ba7",
   "metadata": {},
   "outputs": [],
   "source": [
    "# SQL query to insert data into the\n",
    "# firstdata table\n",
    "insert_records = \"INSERT INTO firstdata (Sno ,movie_Name , Director_name ,Run_Time ,Year , Ratings , metascore ) VALUES(?, ? , ?,?,?,?,?)\""
   ]
  },
  {
   "cell_type": "code",
   "execution_count": null,
   "id": "bdf0ca58",
   "metadata": {},
   "outputs": [],
   "source": [
    "# Importing the contents of the file\n",
    "# into our firstdata table\n",
    "cursor.executemany(insert_records, contents)"
   ]
  },
  {
   "cell_type": "code",
   "execution_count": 122,
   "id": "52239586",
   "metadata": {},
   "outputs": [],
   "source": [
    "# SQL query to retrieve all data from\n",
    "# the firstdata table To verify that the\n",
    "# data of the csv file has been successfully\n",
    "# inserted into the table\n",
    "select_all = \"SELECT * FROM firstdata\"\n",
    "rows = cursor.execute(select_all).fetchall()"
   ]
  },
  {
   "cell_type": "code",
   "execution_count": 123,
   "id": "d37517eb",
   "metadata": {},
   "outputs": [
    {
     "name": "stdout",
     "output_type": "stream",
     "text": [
      "('Sno', ' movie_Name', 'Director_name', ' Run_Time', 'Year', 'Ratings', 'metascore')\n",
      "(1, 'The Dark Knight', 'Lana Wachowski', '152 min', '(2008)', 9.0, 84)\n",
      "(2, 'The Lord of the Rings: The Return of the King', 'Lilly Wachowski', '201 min', '(2003)', 9.0, 94)\n",
      "(3, 'Inception', 'Keanu Reeves', '148 min', '(2010)', 8.8, 74)\n",
      "(4, 'The Lord of the Rings: The Fellowship of the Ring', 'Laurence Fishburne', '178 min', '(2001)', 8.8, 92)\n",
      "(5, 'The Lord of the Rings: The Two Towers', 'Carrie-Anne Moss', '179 min', '(2002)', 8.8, 87)\n",
      "(6, 'The Matrix', 'Hugo Weaving', '136 min', '(1999)', 8.7, 73)\n"
     ]
    }
   ],
   "source": [
    "# Output to the console screen\n",
    "for r in rows:\n",
    "    print(r)"
   ]
  },
  {
   "cell_type": "code",
   "execution_count": 124,
   "id": "d66c8619",
   "metadata": {},
   "outputs": [],
   "source": [
    "# Committing the changes\n",
    "connection.commit()"
   ]
  },
  {
   "cell_type": "markdown",
   "id": "e3a8fd0e",
   "metadata": {},
   "source": [
    "# Q1)  Display all the details of movies created by directors Christopher and Matt Reeves."
   ]
  },
  {
   "cell_type": "code",
   "execution_count": 125,
   "id": "21357085",
   "metadata": {},
   "outputs": [
    {
     "name": "stdout",
     "output_type": "stream",
     "text": [
      "('Sno', ' movie_Name', 'Director_name', ' Run_Time', 'Year', 'Ratings', 'metascore')\n",
      "(1, 'The Dark Knight', 'Lana Wachowski', '152 min', '(2008)', 9.0, 84)\n",
      "(2, 'The Lord of the Rings: The Return of the King', 'Lilly Wachowski', '201 min', '(2003)', 9.0, 94)\n",
      "(3, 'Inception', 'Keanu Reeves', '148 min', '(2010)', 8.8, 74)\n",
      "(4, 'The Lord of the Rings: The Fellowship of the Ring', 'Laurence Fishburne', '178 min', '(2001)', 8.8, 92)\n",
      "(5, 'The Lord of the Rings: The Two Towers', 'Carrie-Anne Moss', '179 min', '(2002)', 8.8, 87)\n",
      "(6, 'The Matrix', 'Hugo Weaving', '136 min', '(1999)', 8.7, 73)\n"
     ]
    }
   ],
   "source": [
    "results=cursor.execute(\"select * from firstdata\")\n",
    "\n",
    "for i in results:\n",
    "    print(i)"
   ]
  },
  {
   "cell_type": "code",
   "execution_count": 126,
   "id": "04284427",
   "metadata": {},
   "outputs": [],
   "source": [
    "results=cursor.execute('select * from firstdata where Director_name in(\"Christopher\",\"Matt Reeves\")')\n",
    "\n",
    "for i in results:\n",
    "    print(i)"
   ]
  },
  {
   "cell_type": "markdown",
   "id": "ad9ba0b4",
   "metadata": {},
   "source": [
    "# Q2) Display all the details of movies with a duration of 140 minutes to 190 minutes."
   ]
  },
  {
   "cell_type": "code",
   "execution_count": 11,
   "id": "3b80c1d2",
   "metadata": {},
   "outputs": [
    {
     "name": "stdout",
     "output_type": "stream",
     "text": [
      "(1, 'The Dark Knight', 'Lana Wachowski', '152 min', '(2008)', 9.0, 84)\n",
      "(3, 'Inception', 'Keanu Reeves', '148 min', '(2010)', 8.8, 74)\n",
      "(4, 'The Lord of the Rings: The Fellowship of the Ring', 'Laurence Fishburne', '178 min', '(2001)', 8.8, 92)\n",
      "(5, 'The Lord of the Rings: The Two Towers', 'Carrie-Anne Moss', '179 min', '(2002)', 8.8, 87)\n"
     ]
    }
   ],
   "source": [
    "results=cursor.execute('select * from firstdata where Run_Time between 140 and 190')\n",
    "\n",
    "for i in results:\n",
    "    print(i)"
   ]
  },
  {
   "cell_type": "markdown",
   "id": "e999a63c",
   "metadata": {},
   "source": [
    "# Q3) Display all details of movies with ratings above 7 in ascending order."
   ]
  },
  {
   "cell_type": "code",
   "execution_count": 12,
   "id": "e5458086",
   "metadata": {},
   "outputs": [
    {
     "name": "stdout",
     "output_type": "stream",
     "text": [
      "(6, 'The Matrix', 'Hugo Weaving', '136 min', '(1999)', 8.7, 73)\n",
      "(3, 'Inception', 'Keanu Reeves', '148 min', '(2010)', 8.8, 74)\n",
      "(4, 'The Lord of the Rings: The Fellowship of the Ring', 'Laurence Fishburne', '178 min', '(2001)', 8.8, 92)\n",
      "(5, 'The Lord of the Rings: The Two Towers', 'Carrie-Anne Moss', '179 min', '(2002)', 8.8, 87)\n",
      "(1, 'The Dark Knight', 'Lana Wachowski', '152 min', '(2008)', 9.0, 84)\n",
      "(2, 'The Lord of the Rings: The Return of the King', 'Lilly Wachowski', '201 min', '(2003)', 9.0, 94)\n",
      "('Sno', ' movie_Name', 'Director_name', ' Run_Time', 'Year', 'Ratings', 'metascore')\n"
     ]
    }
   ],
   "source": [
    "results=cursor.execute('select * from firstdata where Ratings >7' and ('select * from firstdata order by Ratings asc'))\n",
    "\n",
    "for i in results:\n",
    "    print(i)"
   ]
  },
  {
   "cell_type": "markdown",
   "id": "1c410794",
   "metadata": {},
   "source": [
    "# Q4) Display all movie names in descending order."
   ]
  },
  {
   "cell_type": "code",
   "execution_count": 13,
   "id": "79a17f16",
   "metadata": {},
   "outputs": [
    {
     "name": "stdout",
     "output_type": "stream",
     "text": [
      "(' movie_Name',)\n",
      "('Inception',)\n",
      "('The Dark Knight',)\n",
      "('The Lord of the Rings: The Fellowship of the Ring',)\n",
      "('The Lord of the Rings: The Return of the King',)\n",
      "('The Lord of the Rings: The Two Towers',)\n",
      "('The Matrix',)\n"
     ]
    }
   ],
   "source": [
    "results=cursor.execute('select movie_Name from firstdata order by movie_Name asc')\n",
    "\n",
    "for i in results:\n",
    "    print(i)"
   ]
  },
  {
   "cell_type": "markdown",
   "id": "89870a8a",
   "metadata": {},
   "source": [
    "# Q5) Display movie name starts with ‘P’ and their rating is greater than 7."
   ]
  },
  {
   "cell_type": "code",
   "execution_count": 14,
   "id": "54e25af1",
   "metadata": {},
   "outputs": [],
   "source": [
    "results=cursor.execute(\"select movie_Name from firstdata where movie_Name like 'P%'\" or \"select movie_Name from firstdata where Ratings>7\")\n",
    "\n",
    "for i in results:\n",
    "    print(i)"
   ]
  },
  {
   "cell_type": "markdown",
   "id": "3c1e631f",
   "metadata": {},
   "source": [
    "# Table 2 querys"
   ]
  },
  {
   "cell_type": "code",
   "execution_count": 15,
   "id": "d5cd53bd",
   "metadata": {},
   "outputs": [],
   "source": [
    "# Import required modules\n",
    "import csv\n",
    "import sqlite3"
   ]
  },
  {
   "cell_type": "code",
   "execution_count": 16,
   "id": "9d8f9eb7",
   "metadata": {},
   "outputs": [],
   "source": [
    "# Connecting to the database\n",
    "connection = sqlite3.connect('IMDB.db')\n",
    " "
   ]
  },
  {
   "cell_type": "code",
   "execution_count": 17,
   "id": "79827493",
   "metadata": {},
   "outputs": [],
   "source": [
    "# Creating a cursor object to execute\n",
    "# SQL queries on a database table\n",
    "cursor = connection.cursor()"
   ]
  },
  {
   "cell_type": "code",
   "execution_count": 41,
   "id": "f9bc6f1e",
   "metadata": {},
   "outputs": [],
   "source": [
    "# Table Definition\n",
    "create_table = '''CREATE TABLE seconddata(\n",
    "                 Movie_Name text,\n",
    "                Stars text,\n",
    "                Votes int,\n",
    "                Genre text,\n",
    "                Gross_collection int,\n",
    "                Certification text,\n",
    "                FOREIGN KEY ( Movie_Name) REFERENCES firstdata(movie_Name));\n",
    "                '''"
   ]
  },
  {
   "cell_type": "code",
   "execution_count": 42,
   "id": "4b01dbcf",
   "metadata": {},
   "outputs": [
    {
     "data": {
      "text/plain": [
       "<sqlite3.Cursor at 0x227216e8b20>"
      ]
     },
     "execution_count": 42,
     "metadata": {},
     "output_type": "execute_result"
    }
   ],
   "source": [
    "# Creating the table into our\n",
    "# database\n",
    "cursor.execute(create_table)"
   ]
  },
  {
   "cell_type": "code",
   "execution_count": 18,
   "id": "bdd61366",
   "metadata": {},
   "outputs": [],
   "source": [
    "# Opening the seconddata-records.csv file\n",
    "file2 = open('seconddata.csv')"
   ]
  },
  {
   "cell_type": "code",
   "execution_count": 19,
   "id": "f64a976b",
   "metadata": {},
   "outputs": [],
   "source": [
    "# Reading the contents of the\n",
    "# seconddata.csv file\n",
    "contents = csv.reader(file2)"
   ]
  },
  {
   "cell_type": "code",
   "execution_count": 45,
   "id": "0283b481",
   "metadata": {},
   "outputs": [],
   "source": [
    "# SQL query to insert data into the\n",
    "# person table\n",
    "insert_records = \"INSERT INTO seconddata ( Movie_Name, Stars,Votes,Genre,Gross_collection,Certification) VALUES(?, ?,?,?,?,?)\""
   ]
  },
  {
   "cell_type": "code",
   "execution_count": 46,
   "id": "0752d198",
   "metadata": {},
   "outputs": [
    {
     "data": {
      "text/plain": [
       "<sqlite3.Cursor at 0x227216e8b20>"
      ]
     },
     "execution_count": 46,
     "metadata": {},
     "output_type": "execute_result"
    }
   ],
   "source": [
    "# Importing the contents of the file\n",
    "# into our seconddata table\n",
    "cursor.executemany(insert_records, contents)"
   ]
  },
  {
   "cell_type": "code",
   "execution_count": 20,
   "id": "f447a31e",
   "metadata": {},
   "outputs": [],
   "source": [
    "# SQL query to retrieve all data from\n",
    "# the seconddata table To verify that the\n",
    "# data of the csv file has been successfully\n",
    "# inserted into the table\n",
    "select_all = \"SELECT * FROM seconddata\"\n",
    "rows = cursor.execute(select_all).fetchall()"
   ]
  },
  {
   "cell_type": "code",
   "execution_count": 21,
   "id": "757c33d5",
   "metadata": {},
   "outputs": [
    {
     "name": "stdout",
     "output_type": "stream",
     "text": [
      "(' Movie_Name', 'Stars', 'Votes', 'Genre', 'Gross_collection', 'Certification')\n",
      "('Spider-Man: Across the Spider-Verse', 'Joaquim Dos Santos', '39,184', 'Animation, Action, Adventure', '$534.86M', 'PG')\n",
      "('The Dark Knight', 'Kemp Powers', '2,719,653', 'Action, Crime, Drama', '$377.85M', 'PG-13')\n",
      "('The Lord of the Rings: The Return of the King', 'Justin K. Thompson', '1,887,936', 'Action, Adventure, Drama', '$292.58M', 'PG-13')\n",
      "('Inception', 'Shameik Moore', '2,414,227', 'Action, Adventure, Sci-Fi', '$315.54M', 'PG-13')\n",
      "('The Lord of the Rings: The Fellowship of the Ring', 'Hailee Steinfeld', '1,916,556', 'Action, Adventure, Drama', '$342.55M', 'PG-13')\n"
     ]
    }
   ],
   "source": [
    "# Output to the console screen\n",
    "for r in rows:\n",
    "    print(r)"
   ]
  },
  {
   "cell_type": "code",
   "execution_count": 22,
   "id": "6eaabf83",
   "metadata": {},
   "outputs": [],
   "source": [
    "# Committing the changes\n",
    "connection.commit()"
   ]
  },
  {
   "cell_type": "markdown",
   "id": "a44ad60e",
   "metadata": {},
   "source": [
    "# Q1) Display all movie names with star Arnold Schwarzenegger in ascending order."
   ]
  },
  {
   "cell_type": "code",
   "execution_count": 23,
   "id": "d79bb86b",
   "metadata": {},
   "outputs": [],
   "source": [
    "results=cursor.execute(\"select  Movie_Name from seconddata where Stars in('Arnold Schwarzenegger') order by  Movie_Name asc\")\n",
    "\n",
    "for i in results:\n",
    "    print(i)"
   ]
  },
  {
   "cell_type": "markdown",
   "id": "d5880cb6",
   "metadata": {},
   "source": [
    "# Q2 Display all details of the movie with the highest number of votes."
   ]
  },
  {
   "cell_type": "code",
   "execution_count": 24,
   "id": "7740630d",
   "metadata": {},
   "outputs": [
    {
     "name": "stdout",
     "output_type": "stream",
     "text": [
      "('1,887,936',)\n"
     ]
    }
   ],
   "source": [
    "results=cursor.execute(\"SELECT * FROM seconddata\" and \"SELECT MIN(Votes) FROM seconddata\")\n",
    "\n",
    "for i in results:\n",
    "    print(i)"
   ]
  },
  {
   "cell_type": "markdown",
   "id": "969fec02",
   "metadata": {},
   "source": [
    "# Q3) Display movie names with gross collections in descending order."
   ]
  },
  {
   "cell_type": "code",
   "execution_count": 25,
   "id": "c6734cba",
   "metadata": {},
   "outputs": [
    {
     "name": "stdout",
     "output_type": "stream",
     "text": [
      "(' Movie_Name', 'Stars', 'Votes', 'Genre', 'Gross_collection', 'Certification')\n",
      "('Spider-Man: Across the Spider-Verse', 'Joaquim Dos Santos', '39,184', 'Animation, Action, Adventure', '$534.86M', 'PG')\n",
      "('The Dark Knight', 'Kemp Powers', '2,719,653', 'Action, Crime, Drama', '$377.85M', 'PG-13')\n",
      "('The Lord of the Rings: The Fellowship of the Ring', 'Hailee Steinfeld', '1,916,556', 'Action, Adventure, Drama', '$342.55M', 'PG-13')\n",
      "('Inception', 'Shameik Moore', '2,414,227', 'Action, Adventure, Sci-Fi', '$315.54M', 'PG-13')\n",
      "('The Lord of the Rings: The Return of the King', 'Justin K. Thompson', '1,887,936', 'Action, Adventure, Drama', '$292.58M', 'PG-13')\n"
     ]
    }
   ],
   "source": [
    "results=cursor.execute(\"SELECT * FROM seconddata ORDER BY Gross_collection DESC\")\n",
    "\n",
    "for i in results:\n",
    "    print(i)"
   ]
  },
  {
   "cell_type": "markdown",
   "id": "de39c328",
   "metadata": {},
   "source": [
    "# Q4) Display the gross collection of movies with the star Arnold."
   ]
  },
  {
   "cell_type": "code",
   "execution_count": 26,
   "id": "43883767",
   "metadata": {},
   "outputs": [],
   "source": [
    "results=cursor.execute(\"SELECT Gross_collection FROM seconddata WHERE Stars=('Arnold')\")\n",
    "\n",
    "for i in results:\n",
    "    print(i)"
   ]
  },
  {
   "cell_type": "markdown",
   "id": "20d8b7db",
   "metadata": {},
   "source": [
    "# Q5) Display all details of movies with comedy and action genres."
   ]
  },
  {
   "cell_type": "code",
   "execution_count": 27,
   "id": "48fe8772",
   "metadata": {},
   "outputs": [],
   "source": [
    "sql=cursor.execute(\"SELECT * FROM seconddata WHERE Genre in ('Action','Comedy')\")\n",
    "\n",
    "for i in results:\n",
    "    print(i)"
   ]
  },
  {
   "cell_type": "markdown",
   "id": "a6657803",
   "metadata": {},
   "source": [
    "# Make subquery :"
   ]
  },
  {
   "cell_type": "markdown",
   "id": "effb3ced",
   "metadata": {},
   "source": [
    "# Q1) Display all details from both tables where movie names are the same."
   ]
  },
  {
   "cell_type": "code",
   "execution_count": 102,
   "id": "9b81a419",
   "metadata": {},
   "outputs": [],
   "source": [
    "# Import required modules\n",
    "import csv\n",
    "import sqlite3"
   ]
  },
  {
   "cell_type": "code",
   "execution_count": 103,
   "id": "6fbea128",
   "metadata": {},
   "outputs": [],
   "source": [
    "# Connecting to the database\n",
    "connection = sqlite3.connect('IMDB.db')"
   ]
  },
  {
   "cell_type": "code",
   "execution_count": 104,
   "id": "6d28641a",
   "metadata": {},
   "outputs": [],
   "source": [
    "# Creating a cursor object to execute\n",
    "# SQL queries on a database table\n",
    "cursor = connection.cursor()"
   ]
  },
  {
   "cell_type": "code",
   "execution_count": 31,
   "id": "913b9ad3",
   "metadata": {},
   "outputs": [
    {
     "name": "stdout",
     "output_type": "stream",
     "text": [
      "(1, 'The Dark Knight', 'Lana Wachowski', '152 min', '(2008)', 9.0, 84, 'Kemp Powers', '2,719,653', 'Action, Crime, Drama', '$377.85M', 'PG-13')\n",
      "(2, 'The Lord of the Rings: The Return of the King', 'Lilly Wachowski', '201 min', '(2003)', 9.0, 94, 'Justin K. Thompson', '1,887,936', 'Action, Adventure, Drama', '$292.58M', 'PG-13')\n",
      "(3, 'Inception', 'Keanu Reeves', '148 min', '(2010)', 8.8, 74, 'Shameik Moore', '2,414,227', 'Action, Adventure, Sci-Fi', '$315.54M', 'PG-13')\n",
      "(4, 'The Lord of the Rings: The Fellowship of the Ring', 'Laurence Fishburne', '178 min', '(2001)', 8.8, 92, 'Hailee Steinfeld', '1,916,556', 'Action, Adventure, Drama', '$342.55M', 'PG-13')\n"
     ]
    }
   ],
   "source": [
    "sql=cursor.execute(\"SELECT firstdata.Sno ,firstdata.movie_name, firstdata.Director_name , firstdata.Run_Time , firstdata.Year , firstdata.Ratings , firstdata.metascore , seconddata.Stars , seconddata.Votes ,seconddata.Genre , seconddata.Gross_collection , seconddata.Certification FROM firstdata INNER JOIN seconddata ON firstdata.movie_Name=seconddata.Movie_Name\")\n",
    "\n",
    "result = cursor.fetchall()\n",
    "for i in result:\n",
    "    print(i)"
   ]
  },
  {
   "cell_type": "markdown",
   "id": "cf824bb8",
   "metadata": {},
   "source": [
    "# Q2)   Display all movie names, Director, ratings, and gross collection where the genre is action."
   ]
  },
  {
   "cell_type": "code",
   "execution_count": 32,
   "id": "e18dd665",
   "metadata": {},
   "outputs": [],
   "source": [
    "sql=cursor.execute(\"SELECT firstdata.movie_name , firstdata.Director_name , firstdata.Ratings , seconddata.Gross_collection from firstdata INNER JOIN seconddata WHERE Genre in ('Action')\")\n",
    "\n",
    "result = cursor.fetchall()\n",
    "for i in result:\n",
    "    print(i)"
   ]
  },
  {
   "cell_type": "markdown",
   "id": "9c96c9d1",
   "metadata": {},
   "source": [
    "# Q3)Display all details from both tables with the highest gross collection."
   ]
  },
  {
   "cell_type": "code",
   "execution_count": 33,
   "id": "65268f94",
   "metadata": {},
   "outputs": [
    {
     "name": "stdout",
     "output_type": "stream",
     "text": [
      "(1, 'The Dark Knight', 'Lana Wachowski', '152 min', '(2008)', 9.0, 84, 'Kemp Powers', '2,719,653', 'Action, Crime, Drama', '$377.85M', 'PG-13')\n"
     ]
    }
   ],
   "source": [
    "sql=cursor.execute(\"SELECT firstdata.Sno ,firstdata.movie_name, firstdata.Director_name , firstdata.Run_Time , firstdata.Year , firstdata.Ratings , firstdata.metascore , seconddata.Stars , seconddata.Votes ,seconddata.Genre , MAX(seconddata.Gross_collection) , seconddata.Certification FROM firstdata INNER JOIN seconddata ON firstdata.movie_Name=seconddata.Movie_Name\")\n",
    "\n",
    "result = cursor.fetchall()\n",
    "for i in result:\n",
    "    print(i)"
   ]
  },
  {
   "cell_type": "markdown",
   "id": "ed84d369",
   "metadata": {},
   "source": [
    "# Q4)Display all details from both tables with the highest ratings"
   ]
  },
  {
   "cell_type": "code",
   "execution_count": 34,
   "id": "5fdac718",
   "metadata": {},
   "outputs": [
    {
     "name": "stdout",
     "output_type": "stream",
     "text": [
      "(1, 'The Dark Knight', 'Lana Wachowski', '152 min', '(2008)', 9.0, 84, 'Kemp Powers', '2,719,653', 'Action, Crime, Drama', '$377.85M', 'PG-13')\n"
     ]
    }
   ],
   "source": [
    "sql=cursor.execute(\"SELECT firstdata.Sno ,firstdata.movie_name, firstdata.Director_name , firstdata.Run_Time , firstdata.Year , MAX(firstdata.Ratings) , firstdata.metascore , seconddata.Stars , seconddata.Votes ,seconddata.Genre , seconddata.Gross_collection , seconddata.Certification FROM firstdata INNER JOIN seconddata ON firstdata.movie_Name=seconddata.Movie_Name\")\n",
    "\n",
    "result = cursor.fetchall()\n",
    "for i in result:\n",
    "    print(i)"
   ]
  },
  {
   "cell_type": "markdown",
   "id": "95480501",
   "metadata": {},
   "source": [
    "# Q5)Display all details from both tables with the lowest gross collection and lowest ratings"
   ]
  },
  {
   "cell_type": "code",
   "execution_count": 35,
   "id": "a4823b72",
   "metadata": {},
   "outputs": [
    {
     "name": "stdout",
     "output_type": "stream",
     "text": [
      "(2, 'The Lord of the Rings: The Return of the King', 'Lilly Wachowski', '201 min', '(2003)', 8.8, 94, 'Justin K. Thompson', '1,887,936', 'Action, Adventure, Drama', '$292.58M', 'PG-13')\n"
     ]
    }
   ],
   "source": [
    "sql=cursor.execute(\"SELECT firstdata.Sno ,firstdata.movie_name, firstdata.Director_name , firstdata.Run_Time , firstdata.Year , MIN(firstdata.Ratings) , firstdata.metascore , seconddata.Stars , seconddata.Votes ,seconddata.Genre , MIN(seconddata.Gross_collection) , seconddata.Certification FROM firstdata INNER JOIN seconddata ON firstdata.movie_Name=seconddata.Movie_Name\")\n",
    "\n",
    "result = cursor.fetchall()\n",
    "for i in result:\n",
    "    print(i)"
   ]
  },
  {
   "cell_type": "markdown",
   "id": "8cbdddcd",
   "metadata": {},
   "source": [
    "# Now once completed with queries in the SQLite database, then make the exact query solutions by using PANDAS SQL in the data frame.Load the CSV data in a data frame and start making solutions for all the above 15 queries using PANDAS SQL. You may use concat or merge joins per the requirements basis to make 5 join queries. "
   ]
  },
  {
   "cell_type": "markdown",
   "id": "fa0a0012",
   "metadata": {},
   "source": [
    "#  <u><b>TABLE 1<b><u>"
   ]
  },
  {
   "cell_type": "code",
   "execution_count": 36,
   "id": "e16c5f20",
   "metadata": {},
   "outputs": [
    {
     "name": "stdout",
     "output_type": "stream",
     "text": [
      "   Sno                                         movie_Name    Director_name  \\\n",
      "0  1.0                Spider-Man: Across the Spider-Verse    Peter Jackson   \n",
      "1  2.0                                    The Dark Knight      Elijah Wood   \n",
      "2  3.0      The Lord of the Rings: The Return of the King     Ian McKellen   \n",
      "3  4.0                                          Inception  Viggo Mortensen   \n",
      "4  5.0  The Lord of the Rings: The Fellowship of the Ring    Orlando Bloom   \n",
      "\n",
      "   Run_Time    Year  Ratings  metascore  \n",
      "0   140 min  (2023)      9.1         86  \n",
      "1   152 min  (2008)      9.0         84  \n",
      "2   201 min  (2003)      9.0         94  \n",
      "3   148 min  (2010)      8.8         74  \n",
      "4   178 min  (2001)      8.8         92  \n"
     ]
    }
   ],
   "source": [
    "import pandas as pd\n",
    "\n",
    "data = pd.read_csv (r'C:\\Users\\dell\\firstdata.csv')   \n",
    "df = pd.DataFrame(data)\n",
    "\n",
    "print(df)"
   ]
  },
  {
   "cell_type": "code",
   "execution_count": 47,
   "id": "91864900",
   "metadata": {},
   "outputs": [],
   "source": [
    "# Connecting to the database\n",
    "connection = sqlite3.connect('IMDB.db')"
   ]
  },
  {
   "cell_type": "code",
   "execution_count": 48,
   "id": "183f1fdf",
   "metadata": {},
   "outputs": [],
   "source": [
    "# Creating a cursor object to execute\n",
    "# SQL queries on a database table\n",
    "cursor = connection.cursor()"
   ]
  },
  {
   "cell_type": "code",
   "execution_count": 54,
   "id": "19cfee22",
   "metadata": {},
   "outputs": [
    {
     "name": "stdout",
     "output_type": "stream",
     "text": [
      "\u001b[1mThe first CSV file data contains  :\u001b[0m\n"
     ]
    },
    {
     "data": {
      "text/html": [
       "<div>\n",
       "<style scoped>\n",
       "    .dataframe tbody tr th:only-of-type {\n",
       "        vertical-align: middle;\n",
       "    }\n",
       "\n",
       "    .dataframe tbody tr th {\n",
       "        vertical-align: top;\n",
       "    }\n",
       "\n",
       "    .dataframe thead th {\n",
       "        text-align: right;\n",
       "    }\n",
       "</style>\n",
       "<table border=\"1\" class=\"dataframe\">\n",
       "  <thead>\n",
       "    <tr style=\"text-align: right;\">\n",
       "      <th></th>\n",
       "      <th>0</th>\n",
       "      <th>1</th>\n",
       "      <th>2</th>\n",
       "      <th>3</th>\n",
       "      <th>4</th>\n",
       "      <th>5</th>\n",
       "      <th>6</th>\n",
       "    </tr>\n",
       "  </thead>\n",
       "  <tbody>\n",
       "    <tr>\n",
       "      <th>0</th>\n",
       "      <td>Sno</td>\n",
       "      <td>movie_Name</td>\n",
       "      <td>Director_name</td>\n",
       "      <td>Run_Time</td>\n",
       "      <td>Year</td>\n",
       "      <td>Ratings</td>\n",
       "      <td>metascore</td>\n",
       "    </tr>\n",
       "    <tr>\n",
       "      <th>1</th>\n",
       "      <td>1</td>\n",
       "      <td>The Dark Knight</td>\n",
       "      <td>Lana Wachowski</td>\n",
       "      <td>152 min</td>\n",
       "      <td>(2008)</td>\n",
       "      <td>9.0</td>\n",
       "      <td>84</td>\n",
       "    </tr>\n",
       "    <tr>\n",
       "      <th>2</th>\n",
       "      <td>2</td>\n",
       "      <td>The Lord of the Rings: The Return of the King</td>\n",
       "      <td>Lilly Wachowski</td>\n",
       "      <td>201 min</td>\n",
       "      <td>(2003)</td>\n",
       "      <td>9.0</td>\n",
       "      <td>94</td>\n",
       "    </tr>\n",
       "    <tr>\n",
       "      <th>3</th>\n",
       "      <td>3</td>\n",
       "      <td>Inception</td>\n",
       "      <td>Keanu Reeves</td>\n",
       "      <td>148 min</td>\n",
       "      <td>(2010)</td>\n",
       "      <td>8.8</td>\n",
       "      <td>74</td>\n",
       "    </tr>\n",
       "    <tr>\n",
       "      <th>4</th>\n",
       "      <td>4</td>\n",
       "      <td>The Lord of the Rings: The Fellowship of the Ring</td>\n",
       "      <td>Laurence Fishburne</td>\n",
       "      <td>178 min</td>\n",
       "      <td>(2001)</td>\n",
       "      <td>8.8</td>\n",
       "      <td>92</td>\n",
       "    </tr>\n",
       "    <tr>\n",
       "      <th>5</th>\n",
       "      <td>5</td>\n",
       "      <td>The Lord of the Rings: The Two Towers</td>\n",
       "      <td>Carrie-Anne Moss</td>\n",
       "      <td>179 min</td>\n",
       "      <td>(2002)</td>\n",
       "      <td>8.8</td>\n",
       "      <td>87</td>\n",
       "    </tr>\n",
       "    <tr>\n",
       "      <th>6</th>\n",
       "      <td>6</td>\n",
       "      <td>The Matrix</td>\n",
       "      <td>Hugo Weaving</td>\n",
       "      <td>136 min</td>\n",
       "      <td>(1999)</td>\n",
       "      <td>8.7</td>\n",
       "      <td>73</td>\n",
       "    </tr>\n",
       "  </tbody>\n",
       "</table>\n",
       "</div>"
      ],
      "text/plain": [
       "     0                                                  1                   2  \\\n",
       "0  Sno                                         movie_Name       Director_name   \n",
       "1    1                                    The Dark Knight      Lana Wachowski   \n",
       "2    2      The Lord of the Rings: The Return of the King     Lilly Wachowski   \n",
       "3    3                                          Inception        Keanu Reeves   \n",
       "4    4  The Lord of the Rings: The Fellowship of the Ring  Laurence Fishburne   \n",
       "5    5              The Lord of the Rings: The Two Towers    Carrie-Anne Moss   \n",
       "6    6                                         The Matrix        Hugo Weaving   \n",
       "\n",
       "           3       4        5          6  \n",
       "0   Run_Time    Year  Ratings  metascore  \n",
       "1    152 min  (2008)      9.0         84  \n",
       "2    201 min  (2003)      9.0         94  \n",
       "3    148 min  (2010)      8.8         74  \n",
       "4    178 min  (2001)      8.8         92  \n",
       "5    179 min  (2002)      8.8         87  \n",
       "6    136 min  (1999)      8.7         73  "
      ]
     },
     "execution_count": 54,
     "metadata": {},
     "output_type": "execute_result"
    }
   ],
   "source": [
    "#creating dataframe\n",
    "firstdata=pd.DataFrame(cursor.execute('select * from firstdata'))\n",
    "print('\\033[1m'+'The first CSV file data contains  :'+'\\033[0m')\n",
    "firstdata"
   ]
  },
  {
   "cell_type": "markdown",
   "id": "65cb0c8a",
   "metadata": {},
   "source": [
    "# Q1) Display all the details of movies created by directors Christopher and Matt Reeves."
   ]
  },
  {
   "cell_type": "code",
   "execution_count": 66,
   "id": "0c4b9028",
   "metadata": {},
   "outputs": [
    {
     "name": "stdout",
     "output_type": "stream",
     "text": [
      "\u001b[1mThe first CSV file data contains  :\u001b[0m\n"
     ]
    },
    {
     "data": {
      "text/html": [
       "<div>\n",
       "<style scoped>\n",
       "    .dataframe tbody tr th:only-of-type {\n",
       "        vertical-align: middle;\n",
       "    }\n",
       "\n",
       "    .dataframe tbody tr th {\n",
       "        vertical-align: top;\n",
       "    }\n",
       "\n",
       "    .dataframe thead th {\n",
       "        text-align: right;\n",
       "    }\n",
       "</style>\n",
       "<table border=\"1\" class=\"dataframe\">\n",
       "  <thead>\n",
       "    <tr style=\"text-align: right;\">\n",
       "      <th></th>\n",
       "    </tr>\n",
       "  </thead>\n",
       "  <tbody>\n",
       "  </tbody>\n",
       "</table>\n",
       "</div>"
      ],
      "text/plain": [
       "Empty DataFrame\n",
       "Columns: []\n",
       "Index: []"
      ]
     },
     "execution_count": 66,
     "metadata": {},
     "output_type": "execute_result"
    }
   ],
   "source": [
    "#creating dataframe\n",
    "firstdata=pd.DataFrame(cursor.execute('select * from firstdata where Director_name in(\"Christopher\",\"Matt Reeves\")'))\n",
    "print('\\033[1m'+'The first CSV file data contains  :'+'\\033[0m')\n",
    "firstdata"
   ]
  },
  {
   "cell_type": "markdown",
   "id": "ec1bd360",
   "metadata": {},
   "source": [
    "# Q2) Display all the details of movies with a duration of 140 minutes to 190 minutes."
   ]
  },
  {
   "cell_type": "code",
   "execution_count": 67,
   "id": "32a49d35",
   "metadata": {},
   "outputs": [
    {
     "name": "stdout",
     "output_type": "stream",
     "text": [
      "\u001b[1mThe first CSV file data contains  :\u001b[0m\n"
     ]
    },
    {
     "data": {
      "text/html": [
       "<div>\n",
       "<style scoped>\n",
       "    .dataframe tbody tr th:only-of-type {\n",
       "        vertical-align: middle;\n",
       "    }\n",
       "\n",
       "    .dataframe tbody tr th {\n",
       "        vertical-align: top;\n",
       "    }\n",
       "\n",
       "    .dataframe thead th {\n",
       "        text-align: right;\n",
       "    }\n",
       "</style>\n",
       "<table border=\"1\" class=\"dataframe\">\n",
       "  <thead>\n",
       "    <tr style=\"text-align: right;\">\n",
       "      <th></th>\n",
       "      <th>0</th>\n",
       "      <th>1</th>\n",
       "      <th>2</th>\n",
       "      <th>3</th>\n",
       "      <th>4</th>\n",
       "      <th>5</th>\n",
       "      <th>6</th>\n",
       "    </tr>\n",
       "  </thead>\n",
       "  <tbody>\n",
       "    <tr>\n",
       "      <th>0</th>\n",
       "      <td>1</td>\n",
       "      <td>The Dark Knight</td>\n",
       "      <td>Lana Wachowski</td>\n",
       "      <td>152 min</td>\n",
       "      <td>(2008)</td>\n",
       "      <td>9.0</td>\n",
       "      <td>84</td>\n",
       "    </tr>\n",
       "    <tr>\n",
       "      <th>1</th>\n",
       "      <td>3</td>\n",
       "      <td>Inception</td>\n",
       "      <td>Keanu Reeves</td>\n",
       "      <td>148 min</td>\n",
       "      <td>(2010)</td>\n",
       "      <td>8.8</td>\n",
       "      <td>74</td>\n",
       "    </tr>\n",
       "    <tr>\n",
       "      <th>2</th>\n",
       "      <td>4</td>\n",
       "      <td>The Lord of the Rings: The Fellowship of the Ring</td>\n",
       "      <td>Laurence Fishburne</td>\n",
       "      <td>178 min</td>\n",
       "      <td>(2001)</td>\n",
       "      <td>8.8</td>\n",
       "      <td>92</td>\n",
       "    </tr>\n",
       "    <tr>\n",
       "      <th>3</th>\n",
       "      <td>5</td>\n",
       "      <td>The Lord of the Rings: The Two Towers</td>\n",
       "      <td>Carrie-Anne Moss</td>\n",
       "      <td>179 min</td>\n",
       "      <td>(2002)</td>\n",
       "      <td>8.8</td>\n",
       "      <td>87</td>\n",
       "    </tr>\n",
       "  </tbody>\n",
       "</table>\n",
       "</div>"
      ],
      "text/plain": [
       "   0                                                  1                   2  \\\n",
       "0  1                                    The Dark Knight      Lana Wachowski   \n",
       "1  3                                          Inception        Keanu Reeves   \n",
       "2  4  The Lord of the Rings: The Fellowship of the Ring  Laurence Fishburne   \n",
       "3  5              The Lord of the Rings: The Two Towers    Carrie-Anne Moss   \n",
       "\n",
       "         3       4    5   6  \n",
       "0  152 min  (2008)  9.0  84  \n",
       "1  148 min  (2010)  8.8  74  \n",
       "2  178 min  (2001)  8.8  92  \n",
       "3  179 min  (2002)  8.8  87  "
      ]
     },
     "execution_count": 67,
     "metadata": {},
     "output_type": "execute_result"
    }
   ],
   "source": [
    "#creating dataframe\n",
    "firstdata=pd.DataFrame(cursor.execute('select * from firstdata where Run_Time between 140 and 190'))\n",
    "print('\\033[1m'+'The first CSV file data contains  :'+'\\033[0m')\n",
    "firstdata"
   ]
  },
  {
   "cell_type": "markdown",
   "id": "6e705bf4",
   "metadata": {},
   "source": [
    "# Q3) Display all details of movies with ratings above 7 in ascending order."
   ]
  },
  {
   "cell_type": "code",
   "execution_count": 69,
   "id": "a0e18869",
   "metadata": {},
   "outputs": [
    {
     "name": "stdout",
     "output_type": "stream",
     "text": [
      "\u001b[1mThe first CSV file data contains  :\u001b[0m\n"
     ]
    },
    {
     "data": {
      "text/html": [
       "<div>\n",
       "<style scoped>\n",
       "    .dataframe tbody tr th:only-of-type {\n",
       "        vertical-align: middle;\n",
       "    }\n",
       "\n",
       "    .dataframe tbody tr th {\n",
       "        vertical-align: top;\n",
       "    }\n",
       "\n",
       "    .dataframe thead th {\n",
       "        text-align: right;\n",
       "    }\n",
       "</style>\n",
       "<table border=\"1\" class=\"dataframe\">\n",
       "  <thead>\n",
       "    <tr style=\"text-align: right;\">\n",
       "      <th></th>\n",
       "      <th>0</th>\n",
       "      <th>1</th>\n",
       "      <th>2</th>\n",
       "      <th>3</th>\n",
       "      <th>4</th>\n",
       "      <th>5</th>\n",
       "      <th>6</th>\n",
       "    </tr>\n",
       "  </thead>\n",
       "  <tbody>\n",
       "    <tr>\n",
       "      <th>0</th>\n",
       "      <td>6</td>\n",
       "      <td>The Matrix</td>\n",
       "      <td>Hugo Weaving</td>\n",
       "      <td>136 min</td>\n",
       "      <td>(1999)</td>\n",
       "      <td>8.7</td>\n",
       "      <td>73</td>\n",
       "    </tr>\n",
       "    <tr>\n",
       "      <th>1</th>\n",
       "      <td>3</td>\n",
       "      <td>Inception</td>\n",
       "      <td>Keanu Reeves</td>\n",
       "      <td>148 min</td>\n",
       "      <td>(2010)</td>\n",
       "      <td>8.8</td>\n",
       "      <td>74</td>\n",
       "    </tr>\n",
       "    <tr>\n",
       "      <th>2</th>\n",
       "      <td>4</td>\n",
       "      <td>The Lord of the Rings: The Fellowship of the Ring</td>\n",
       "      <td>Laurence Fishburne</td>\n",
       "      <td>178 min</td>\n",
       "      <td>(2001)</td>\n",
       "      <td>8.8</td>\n",
       "      <td>92</td>\n",
       "    </tr>\n",
       "    <tr>\n",
       "      <th>3</th>\n",
       "      <td>5</td>\n",
       "      <td>The Lord of the Rings: The Two Towers</td>\n",
       "      <td>Carrie-Anne Moss</td>\n",
       "      <td>179 min</td>\n",
       "      <td>(2002)</td>\n",
       "      <td>8.8</td>\n",
       "      <td>87</td>\n",
       "    </tr>\n",
       "    <tr>\n",
       "      <th>4</th>\n",
       "      <td>1</td>\n",
       "      <td>The Dark Knight</td>\n",
       "      <td>Lana Wachowski</td>\n",
       "      <td>152 min</td>\n",
       "      <td>(2008)</td>\n",
       "      <td>9.0</td>\n",
       "      <td>84</td>\n",
       "    </tr>\n",
       "    <tr>\n",
       "      <th>5</th>\n",
       "      <td>2</td>\n",
       "      <td>The Lord of the Rings: The Return of the King</td>\n",
       "      <td>Lilly Wachowski</td>\n",
       "      <td>201 min</td>\n",
       "      <td>(2003)</td>\n",
       "      <td>9.0</td>\n",
       "      <td>94</td>\n",
       "    </tr>\n",
       "    <tr>\n",
       "      <th>6</th>\n",
       "      <td>Sno</td>\n",
       "      <td>movie_Name</td>\n",
       "      <td>Director_name</td>\n",
       "      <td>Run_Time</td>\n",
       "      <td>Year</td>\n",
       "      <td>Ratings</td>\n",
       "      <td>metascore</td>\n",
       "    </tr>\n",
       "  </tbody>\n",
       "</table>\n",
       "</div>"
      ],
      "text/plain": [
       "     0                                                  1                   2  \\\n",
       "0    6                                         The Matrix        Hugo Weaving   \n",
       "1    3                                          Inception        Keanu Reeves   \n",
       "2    4  The Lord of the Rings: The Fellowship of the Ring  Laurence Fishburne   \n",
       "3    5              The Lord of the Rings: The Two Towers    Carrie-Anne Moss   \n",
       "4    1                                    The Dark Knight      Lana Wachowski   \n",
       "5    2      The Lord of the Rings: The Return of the King     Lilly Wachowski   \n",
       "6  Sno                                         movie_Name       Director_name   \n",
       "\n",
       "           3       4        5          6  \n",
       "0    136 min  (1999)      8.7         73  \n",
       "1    148 min  (2010)      8.8         74  \n",
       "2    178 min  (2001)      8.8         92  \n",
       "3    179 min  (2002)      8.8         87  \n",
       "4    152 min  (2008)      9.0         84  \n",
       "5    201 min  (2003)      9.0         94  \n",
       "6   Run_Time    Year  Ratings  metascore  "
      ]
     },
     "execution_count": 69,
     "metadata": {},
     "output_type": "execute_result"
    }
   ],
   "source": [
    "\n",
    "\n",
    "#creating dataframe\n",
    "firstdata=pd.DataFrame(cursor.execute('select * from firstdata where Ratings >7' and ('select * from firstdata order by Ratings asc')))\n",
    "print('\\033[1m'+'The first CSV file data contains  :'+'\\033[0m')\n",
    "firstdata"
   ]
  },
  {
   "cell_type": "markdown",
   "id": "360a34e9",
   "metadata": {},
   "source": [
    "# Q4) Display all movie names in descending order."
   ]
  },
  {
   "cell_type": "code",
   "execution_count": 70,
   "id": "324d8f82",
   "metadata": {},
   "outputs": [
    {
     "name": "stdout",
     "output_type": "stream",
     "text": [
      "\u001b[1mThe first CSV file data contains  :\u001b[0m\n"
     ]
    },
    {
     "data": {
      "text/html": [
       "<div>\n",
       "<style scoped>\n",
       "    .dataframe tbody tr th:only-of-type {\n",
       "        vertical-align: middle;\n",
       "    }\n",
       "\n",
       "    .dataframe tbody tr th {\n",
       "        vertical-align: top;\n",
       "    }\n",
       "\n",
       "    .dataframe thead th {\n",
       "        text-align: right;\n",
       "    }\n",
       "</style>\n",
       "<table border=\"1\" class=\"dataframe\">\n",
       "  <thead>\n",
       "    <tr style=\"text-align: right;\">\n",
       "      <th></th>\n",
       "      <th>0</th>\n",
       "    </tr>\n",
       "  </thead>\n",
       "  <tbody>\n",
       "    <tr>\n",
       "      <th>0</th>\n",
       "      <td>movie_Name</td>\n",
       "    </tr>\n",
       "    <tr>\n",
       "      <th>1</th>\n",
       "      <td>Inception</td>\n",
       "    </tr>\n",
       "    <tr>\n",
       "      <th>2</th>\n",
       "      <td>The Dark Knight</td>\n",
       "    </tr>\n",
       "    <tr>\n",
       "      <th>3</th>\n",
       "      <td>The Lord of the Rings: The Fellowship of the Ring</td>\n",
       "    </tr>\n",
       "    <tr>\n",
       "      <th>4</th>\n",
       "      <td>The Lord of the Rings: The Return of the King</td>\n",
       "    </tr>\n",
       "    <tr>\n",
       "      <th>5</th>\n",
       "      <td>The Lord of the Rings: The Two Towers</td>\n",
       "    </tr>\n",
       "    <tr>\n",
       "      <th>6</th>\n",
       "      <td>The Matrix</td>\n",
       "    </tr>\n",
       "  </tbody>\n",
       "</table>\n",
       "</div>"
      ],
      "text/plain": [
       "                                                   0\n",
       "0                                         movie_Name\n",
       "1                                          Inception\n",
       "2                                    The Dark Knight\n",
       "3  The Lord of the Rings: The Fellowship of the Ring\n",
       "4      The Lord of the Rings: The Return of the King\n",
       "5              The Lord of the Rings: The Two Towers\n",
       "6                                         The Matrix"
      ]
     },
     "execution_count": 70,
     "metadata": {},
     "output_type": "execute_result"
    }
   ],
   "source": [
    "#creating dataframe\n",
    "firstdata=pd.DataFrame(cursor.execute('select movie_Name from firstdata order by movie_Name asc'))\n",
    "print('\\033[1m'+'The first CSV file data contains  :'+'\\033[0m')\n",
    "firstdata"
   ]
  },
  {
   "cell_type": "markdown",
   "id": "6e5f1221",
   "metadata": {},
   "source": [
    "# Q5) Display movie name starts with ‘P’ and their rating is greater than 7."
   ]
  },
  {
   "cell_type": "code",
   "execution_count": 71,
   "id": "d8f4f89e",
   "metadata": {},
   "outputs": [
    {
     "name": "stdout",
     "output_type": "stream",
     "text": [
      "\u001b[1mThe first CSV file data contains  :\u001b[0m\n"
     ]
    },
    {
     "data": {
      "text/html": [
       "<div>\n",
       "<style scoped>\n",
       "    .dataframe tbody tr th:only-of-type {\n",
       "        vertical-align: middle;\n",
       "    }\n",
       "\n",
       "    .dataframe tbody tr th {\n",
       "        vertical-align: top;\n",
       "    }\n",
       "\n",
       "    .dataframe thead th {\n",
       "        text-align: right;\n",
       "    }\n",
       "</style>\n",
       "<table border=\"1\" class=\"dataframe\">\n",
       "  <thead>\n",
       "    <tr style=\"text-align: right;\">\n",
       "      <th></th>\n",
       "    </tr>\n",
       "  </thead>\n",
       "  <tbody>\n",
       "  </tbody>\n",
       "</table>\n",
       "</div>"
      ],
      "text/plain": [
       "Empty DataFrame\n",
       "Columns: []\n",
       "Index: []"
      ]
     },
     "execution_count": 71,
     "metadata": {},
     "output_type": "execute_result"
    }
   ],
   "source": [
    "#creating dataframe\n",
    "firstdata=pd.DataFrame(cursor.execute(\"select movie_Name from firstdata where movie_Name like 'P%'\" or \"select movie_Name from firstdata where Ratings>7\"))\n",
    "print('\\033[1m'+'The first CSV file data contains  :'+'\\033[0m')\n",
    "firstdata"
   ]
  },
  {
   "cell_type": "markdown",
   "id": "e810d7ee",
   "metadata": {},
   "source": [
    "# <u><b>Table 2 querys<b><u>"
   ]
  },
  {
   "cell_type": "code",
   "execution_count": 72,
   "id": "104ca47d",
   "metadata": {},
   "outputs": [
    {
     "name": "stdout",
     "output_type": "stream",
     "text": [
      "                                          Movie_Name               Stars  \\\n",
      "0                Spider-Man: Across the Spider-Verse  Joaquim Dos Santos   \n",
      "1                                    The Dark Knight         Kemp Powers   \n",
      "2      The Lord of the Rings: The Return of the King  Justin K. Thompson   \n",
      "3                                          Inception       Shameik Moore   \n",
      "4  The Lord of the Rings: The Fellowship of the Ring    Hailee Steinfeld   \n",
      "\n",
      "       Votes                         Genre Gross_collection Certification  \n",
      "0     51,087  Animation, Action, Adventure         $534.86M            PG  \n",
      "1  2,719,963          Action, Crime, Drama         $377.85M         PG-13  \n",
      "2  1,888,122      Action, Adventure, Drama         $292.58M         PG-13  \n",
      "3  2,414,468     Action, Adventure, Sci-Fi         $315.54M         PG-13  \n",
      "4  1,916,733      Action, Adventure, Drama         $342.55M         PG-13  \n"
     ]
    }
   ],
   "source": [
    "import pandas as pd\n",
    "\n",
    "data = pd.read_csv (r'C:\\Users\\dell\\seconddata.csv')   \n",
    "df = pd.DataFrame(data)\n",
    "\n",
    "print(df)"
   ]
  },
  {
   "cell_type": "code",
   "execution_count": 73,
   "id": "c81e34e7",
   "metadata": {},
   "outputs": [],
   "source": [
    "# Connecting to the database\n",
    "connection = sqlite3.connect('IMDB.db')"
   ]
  },
  {
   "cell_type": "code",
   "execution_count": 74,
   "id": "6cb6d83b",
   "metadata": {},
   "outputs": [],
   "source": [
    "# Creating a cursor object to execute\n",
    "# SQL queries on a database table\n",
    "cursor = connection.cursor()"
   ]
  },
  {
   "cell_type": "code",
   "execution_count": 80,
   "id": "c6127247",
   "metadata": {},
   "outputs": [
    {
     "name": "stdout",
     "output_type": "stream",
     "text": [
      "\u001b[1mThe second CSV file data contains  :\u001b[0m\n"
     ]
    },
    {
     "data": {
      "text/html": [
       "<div>\n",
       "<style scoped>\n",
       "    .dataframe tbody tr th:only-of-type {\n",
       "        vertical-align: middle;\n",
       "    }\n",
       "\n",
       "    .dataframe tbody tr th {\n",
       "        vertical-align: top;\n",
       "    }\n",
       "\n",
       "    .dataframe thead th {\n",
       "        text-align: right;\n",
       "    }\n",
       "</style>\n",
       "<table border=\"1\" class=\"dataframe\">\n",
       "  <thead>\n",
       "    <tr style=\"text-align: right;\">\n",
       "      <th></th>\n",
       "      <th>0</th>\n",
       "      <th>1</th>\n",
       "      <th>2</th>\n",
       "      <th>3</th>\n",
       "      <th>4</th>\n",
       "      <th>5</th>\n",
       "    </tr>\n",
       "  </thead>\n",
       "  <tbody>\n",
       "    <tr>\n",
       "      <th>0</th>\n",
       "      <td>Movie_Name</td>\n",
       "      <td>Stars</td>\n",
       "      <td>Votes</td>\n",
       "      <td>Genre</td>\n",
       "      <td>Gross_collection</td>\n",
       "      <td>Certification</td>\n",
       "    </tr>\n",
       "    <tr>\n",
       "      <th>1</th>\n",
       "      <td>Spider-Man: Across the Spider-Verse</td>\n",
       "      <td>Joaquim Dos Santos</td>\n",
       "      <td>39,184</td>\n",
       "      <td>Animation, Action, Adventure</td>\n",
       "      <td>$534.86M</td>\n",
       "      <td>PG</td>\n",
       "    </tr>\n",
       "    <tr>\n",
       "      <th>2</th>\n",
       "      <td>The Dark Knight</td>\n",
       "      <td>Kemp Powers</td>\n",
       "      <td>2,719,653</td>\n",
       "      <td>Action, Crime, Drama</td>\n",
       "      <td>$377.85M</td>\n",
       "      <td>PG-13</td>\n",
       "    </tr>\n",
       "    <tr>\n",
       "      <th>3</th>\n",
       "      <td>The Lord of the Rings: The Return of the King</td>\n",
       "      <td>Justin K. Thompson</td>\n",
       "      <td>1,887,936</td>\n",
       "      <td>Action, Adventure, Drama</td>\n",
       "      <td>$292.58M</td>\n",
       "      <td>PG-13</td>\n",
       "    </tr>\n",
       "    <tr>\n",
       "      <th>4</th>\n",
       "      <td>Inception</td>\n",
       "      <td>Shameik Moore</td>\n",
       "      <td>2,414,227</td>\n",
       "      <td>Action, Adventure, Sci-Fi</td>\n",
       "      <td>$315.54M</td>\n",
       "      <td>PG-13</td>\n",
       "    </tr>\n",
       "    <tr>\n",
       "      <th>5</th>\n",
       "      <td>The Lord of the Rings: The Fellowship of the Ring</td>\n",
       "      <td>Hailee Steinfeld</td>\n",
       "      <td>1,916,556</td>\n",
       "      <td>Action, Adventure, Drama</td>\n",
       "      <td>$342.55M</td>\n",
       "      <td>PG-13</td>\n",
       "    </tr>\n",
       "  </tbody>\n",
       "</table>\n",
       "</div>"
      ],
      "text/plain": [
       "                                                   0                   1  \\\n",
       "0                                         Movie_Name               Stars   \n",
       "1                Spider-Man: Across the Spider-Verse  Joaquim Dos Santos   \n",
       "2                                    The Dark Knight         Kemp Powers   \n",
       "3      The Lord of the Rings: The Return of the King  Justin K. Thompson   \n",
       "4                                          Inception       Shameik Moore   \n",
       "5  The Lord of the Rings: The Fellowship of the Ring    Hailee Steinfeld   \n",
       "\n",
       "           2                             3                 4              5  \n",
       "0      Votes                         Genre  Gross_collection  Certification  \n",
       "1     39,184  Animation, Action, Adventure          $534.86M             PG  \n",
       "2  2,719,653          Action, Crime, Drama          $377.85M          PG-13  \n",
       "3  1,887,936      Action, Adventure, Drama          $292.58M          PG-13  \n",
       "4  2,414,227     Action, Adventure, Sci-Fi          $315.54M          PG-13  \n",
       "5  1,916,556      Action, Adventure, Drama          $342.55M          PG-13  "
      ]
     },
     "execution_count": 80,
     "metadata": {},
     "output_type": "execute_result"
    }
   ],
   "source": [
    "#creating dataframe\n",
    "seconddata=pd.DataFrame(cursor.execute('select * from seconddata'))\n",
    "print('\\033[1m'+'The second CSV file data contains  :'+'\\033[0m')\n",
    "seconddata"
   ]
  },
  {
   "cell_type": "markdown",
   "id": "aaafaa37",
   "metadata": {},
   "source": [
    "# Q1) Display all movie names with star Arnold Schwarzenegger in ascending order."
   ]
  },
  {
   "cell_type": "code",
   "execution_count": 81,
   "id": "77d662f1",
   "metadata": {},
   "outputs": [
    {
     "name": "stdout",
     "output_type": "stream",
     "text": [
      "\u001b[1mThe second CSV file data contains  :\u001b[0m\n"
     ]
    },
    {
     "data": {
      "text/html": [
       "<div>\n",
       "<style scoped>\n",
       "    .dataframe tbody tr th:only-of-type {\n",
       "        vertical-align: middle;\n",
       "    }\n",
       "\n",
       "    .dataframe tbody tr th {\n",
       "        vertical-align: top;\n",
       "    }\n",
       "\n",
       "    .dataframe thead th {\n",
       "        text-align: right;\n",
       "    }\n",
       "</style>\n",
       "<table border=\"1\" class=\"dataframe\">\n",
       "  <thead>\n",
       "    <tr style=\"text-align: right;\">\n",
       "      <th></th>\n",
       "    </tr>\n",
       "  </thead>\n",
       "  <tbody>\n",
       "  </tbody>\n",
       "</table>\n",
       "</div>"
      ],
      "text/plain": [
       "Empty DataFrame\n",
       "Columns: []\n",
       "Index: []"
      ]
     },
     "execution_count": 81,
     "metadata": {},
     "output_type": "execute_result"
    }
   ],
   "source": [
    "#creating dataframe\n",
    "seconddata=pd.DataFrame(cursor.execute(\"select  Movie_Name from seconddata where Stars in('Arnold Schwarzenegger') order by  Movie_Name asc\"))\n",
    "print('\\033[1m'+'The second CSV file data contains  :'+'\\033[0m')\n",
    "seconddata"
   ]
  },
  {
   "cell_type": "markdown",
   "id": "fbc52fa6",
   "metadata": {},
   "source": [
    "# Q2 Display all details of the movie with the highest number of votes."
   ]
  },
  {
   "cell_type": "code",
   "execution_count": 82,
   "id": "e1f74fa2",
   "metadata": {},
   "outputs": [
    {
     "name": "stdout",
     "output_type": "stream",
     "text": [
      "\u001b[1mThe second CSV file data contains  :\u001b[0m\n"
     ]
    },
    {
     "data": {
      "text/html": [
       "<div>\n",
       "<style scoped>\n",
       "    .dataframe tbody tr th:only-of-type {\n",
       "        vertical-align: middle;\n",
       "    }\n",
       "\n",
       "    .dataframe tbody tr th {\n",
       "        vertical-align: top;\n",
       "    }\n",
       "\n",
       "    .dataframe thead th {\n",
       "        text-align: right;\n",
       "    }\n",
       "</style>\n",
       "<table border=\"1\" class=\"dataframe\">\n",
       "  <thead>\n",
       "    <tr style=\"text-align: right;\">\n",
       "      <th></th>\n",
       "      <th>0</th>\n",
       "    </tr>\n",
       "  </thead>\n",
       "  <tbody>\n",
       "    <tr>\n",
       "      <th>0</th>\n",
       "      <td>1,887,936</td>\n",
       "    </tr>\n",
       "  </tbody>\n",
       "</table>\n",
       "</div>"
      ],
      "text/plain": [
       "           0\n",
       "0  1,887,936"
      ]
     },
     "execution_count": 82,
     "metadata": {},
     "output_type": "execute_result"
    }
   ],
   "source": [
    "#creating dataframe\n",
    "seconddata=pd.DataFrame(cursor.execute(\"SELECT * FROM seconddata\" and \"SELECT MIN(Votes) FROM seconddata\"))\n",
    "print('\\033[1m'+'The second CSV file data contains  :'+'\\033[0m')\n",
    "seconddata"
   ]
  },
  {
   "cell_type": "markdown",
   "id": "ba4655c6",
   "metadata": {},
   "source": [
    "# Q3) Display movie names with gross collections in descending order."
   ]
  },
  {
   "cell_type": "code",
   "execution_count": 83,
   "id": "3395e699",
   "metadata": {},
   "outputs": [
    {
     "name": "stdout",
     "output_type": "stream",
     "text": [
      "\u001b[1mThe second CSV file data contains  :\u001b[0m\n"
     ]
    },
    {
     "data": {
      "text/html": [
       "<div>\n",
       "<style scoped>\n",
       "    .dataframe tbody tr th:only-of-type {\n",
       "        vertical-align: middle;\n",
       "    }\n",
       "\n",
       "    .dataframe tbody tr th {\n",
       "        vertical-align: top;\n",
       "    }\n",
       "\n",
       "    .dataframe thead th {\n",
       "        text-align: right;\n",
       "    }\n",
       "</style>\n",
       "<table border=\"1\" class=\"dataframe\">\n",
       "  <thead>\n",
       "    <tr style=\"text-align: right;\">\n",
       "      <th></th>\n",
       "      <th>0</th>\n",
       "      <th>1</th>\n",
       "      <th>2</th>\n",
       "      <th>3</th>\n",
       "      <th>4</th>\n",
       "      <th>5</th>\n",
       "    </tr>\n",
       "  </thead>\n",
       "  <tbody>\n",
       "    <tr>\n",
       "      <th>0</th>\n",
       "      <td>Movie_Name</td>\n",
       "      <td>Stars</td>\n",
       "      <td>Votes</td>\n",
       "      <td>Genre</td>\n",
       "      <td>Gross_collection</td>\n",
       "      <td>Certification</td>\n",
       "    </tr>\n",
       "    <tr>\n",
       "      <th>1</th>\n",
       "      <td>Spider-Man: Across the Spider-Verse</td>\n",
       "      <td>Joaquim Dos Santos</td>\n",
       "      <td>39,184</td>\n",
       "      <td>Animation, Action, Adventure</td>\n",
       "      <td>$534.86M</td>\n",
       "      <td>PG</td>\n",
       "    </tr>\n",
       "    <tr>\n",
       "      <th>2</th>\n",
       "      <td>The Dark Knight</td>\n",
       "      <td>Kemp Powers</td>\n",
       "      <td>2,719,653</td>\n",
       "      <td>Action, Crime, Drama</td>\n",
       "      <td>$377.85M</td>\n",
       "      <td>PG-13</td>\n",
       "    </tr>\n",
       "    <tr>\n",
       "      <th>3</th>\n",
       "      <td>The Lord of the Rings: The Fellowship of the Ring</td>\n",
       "      <td>Hailee Steinfeld</td>\n",
       "      <td>1,916,556</td>\n",
       "      <td>Action, Adventure, Drama</td>\n",
       "      <td>$342.55M</td>\n",
       "      <td>PG-13</td>\n",
       "    </tr>\n",
       "    <tr>\n",
       "      <th>4</th>\n",
       "      <td>Inception</td>\n",
       "      <td>Shameik Moore</td>\n",
       "      <td>2,414,227</td>\n",
       "      <td>Action, Adventure, Sci-Fi</td>\n",
       "      <td>$315.54M</td>\n",
       "      <td>PG-13</td>\n",
       "    </tr>\n",
       "    <tr>\n",
       "      <th>5</th>\n",
       "      <td>The Lord of the Rings: The Return of the King</td>\n",
       "      <td>Justin K. Thompson</td>\n",
       "      <td>1,887,936</td>\n",
       "      <td>Action, Adventure, Drama</td>\n",
       "      <td>$292.58M</td>\n",
       "      <td>PG-13</td>\n",
       "    </tr>\n",
       "  </tbody>\n",
       "</table>\n",
       "</div>"
      ],
      "text/plain": [
       "                                                   0                   1  \\\n",
       "0                                         Movie_Name               Stars   \n",
       "1                Spider-Man: Across the Spider-Verse  Joaquim Dos Santos   \n",
       "2                                    The Dark Knight         Kemp Powers   \n",
       "3  The Lord of the Rings: The Fellowship of the Ring    Hailee Steinfeld   \n",
       "4                                          Inception       Shameik Moore   \n",
       "5      The Lord of the Rings: The Return of the King  Justin K. Thompson   \n",
       "\n",
       "           2                             3                 4              5  \n",
       "0      Votes                         Genre  Gross_collection  Certification  \n",
       "1     39,184  Animation, Action, Adventure          $534.86M             PG  \n",
       "2  2,719,653          Action, Crime, Drama          $377.85M          PG-13  \n",
       "3  1,916,556      Action, Adventure, Drama          $342.55M          PG-13  \n",
       "4  2,414,227     Action, Adventure, Sci-Fi          $315.54M          PG-13  \n",
       "5  1,887,936      Action, Adventure, Drama          $292.58M          PG-13  "
      ]
     },
     "execution_count": 83,
     "metadata": {},
     "output_type": "execute_result"
    }
   ],
   "source": [
    "#creating dataframe\n",
    "seconddata=pd.DataFrame(cursor.execute(\"SELECT * FROM seconddata ORDER BY Gross_collection DESC\"))\n",
    "print('\\033[1m'+'The second CSV file data contains  :'+'\\033[0m')\n",
    "seconddata"
   ]
  },
  {
   "cell_type": "markdown",
   "id": "da75504d",
   "metadata": {},
   "source": [
    "# Q4) Display the gross collection of movies with the star Arnold."
   ]
  },
  {
   "cell_type": "code",
   "execution_count": 84,
   "id": "342771a4",
   "metadata": {},
   "outputs": [
    {
     "name": "stdout",
     "output_type": "stream",
     "text": [
      "\u001b[1mThe second CSV file data contains  :\u001b[0m\n"
     ]
    },
    {
     "data": {
      "text/html": [
       "<div>\n",
       "<style scoped>\n",
       "    .dataframe tbody tr th:only-of-type {\n",
       "        vertical-align: middle;\n",
       "    }\n",
       "\n",
       "    .dataframe tbody tr th {\n",
       "        vertical-align: top;\n",
       "    }\n",
       "\n",
       "    .dataframe thead th {\n",
       "        text-align: right;\n",
       "    }\n",
       "</style>\n",
       "<table border=\"1\" class=\"dataframe\">\n",
       "  <thead>\n",
       "    <tr style=\"text-align: right;\">\n",
       "      <th></th>\n",
       "    </tr>\n",
       "  </thead>\n",
       "  <tbody>\n",
       "  </tbody>\n",
       "</table>\n",
       "</div>"
      ],
      "text/plain": [
       "Empty DataFrame\n",
       "Columns: []\n",
       "Index: []"
      ]
     },
     "execution_count": 84,
     "metadata": {},
     "output_type": "execute_result"
    }
   ],
   "source": [
    "#creating dataframe\n",
    "seconddata=pd.DataFrame(cursor.execute(\"SELECT Gross_collection FROM seconddata WHERE Stars=('Arnold')\"))\n",
    "print('\\033[1m'+'The second CSV file data contains  :'+'\\033[0m')\n",
    "seconddata"
   ]
  },
  {
   "cell_type": "markdown",
   "id": "f0859157",
   "metadata": {},
   "source": [
    "# Q5) Display all details of movies with comedy and action genres."
   ]
  },
  {
   "cell_type": "code",
   "execution_count": 85,
   "id": "d9852136",
   "metadata": {},
   "outputs": [
    {
     "name": "stdout",
     "output_type": "stream",
     "text": [
      "\u001b[1mThe second CSV file data contains  :\u001b[0m\n"
     ]
    },
    {
     "data": {
      "text/html": [
       "<div>\n",
       "<style scoped>\n",
       "    .dataframe tbody tr th:only-of-type {\n",
       "        vertical-align: middle;\n",
       "    }\n",
       "\n",
       "    .dataframe tbody tr th {\n",
       "        vertical-align: top;\n",
       "    }\n",
       "\n",
       "    .dataframe thead th {\n",
       "        text-align: right;\n",
       "    }\n",
       "</style>\n",
       "<table border=\"1\" class=\"dataframe\">\n",
       "  <thead>\n",
       "    <tr style=\"text-align: right;\">\n",
       "      <th></th>\n",
       "    </tr>\n",
       "  </thead>\n",
       "  <tbody>\n",
       "  </tbody>\n",
       "</table>\n",
       "</div>"
      ],
      "text/plain": [
       "Empty DataFrame\n",
       "Columns: []\n",
       "Index: []"
      ]
     },
     "execution_count": 85,
     "metadata": {},
     "output_type": "execute_result"
    }
   ],
   "source": [
    "\n",
    "#creating dataframe\n",
    "seconddata=pd.DataFrame(cursor.execute(\"SELECT * FROM seconddata WHERE Genre in ('Action','Comedy')\"))\n",
    "print('\\033[1m'+'The second CSV file data contains  :'+'\\033[0m')\n",
    "seconddata"
   ]
  },
  {
   "cell_type": "markdown",
   "id": "097d363c",
   "metadata": {},
   "source": [
    "# <u><b>Make subquery :<b><u>"
   ]
  },
  {
   "cell_type": "code",
   "execution_count": 95,
   "id": "10c03bb8",
   "metadata": {},
   "outputs": [
    {
     "data": {
      "text/html": [
       "<div>\n",
       "<style scoped>\n",
       "    .dataframe tbody tr th:only-of-type {\n",
       "        vertical-align: middle;\n",
       "    }\n",
       "\n",
       "    .dataframe tbody tr th {\n",
       "        vertical-align: top;\n",
       "    }\n",
       "\n",
       "    .dataframe thead th {\n",
       "        text-align: right;\n",
       "    }\n",
       "</style>\n",
       "<table border=\"1\" class=\"dataframe\">\n",
       "  <thead>\n",
       "    <tr style=\"text-align: right;\">\n",
       "      <th></th>\n",
       "      <th>Sno</th>\n",
       "      <th>movie_Name</th>\n",
       "      <th>Director_name</th>\n",
       "      <th>Run_Time</th>\n",
       "      <th>Year</th>\n",
       "      <th>Ratings</th>\n",
       "      <th>metascore</th>\n",
       "    </tr>\n",
       "  </thead>\n",
       "  <tbody>\n",
       "    <tr>\n",
       "      <th>0</th>\n",
       "      <td>1.0</td>\n",
       "      <td>Spider-Man: Across the Spider-Verse</td>\n",
       "      <td>Peter Jackson</td>\n",
       "      <td>140 min</td>\n",
       "      <td>(2023)</td>\n",
       "      <td>9.1</td>\n",
       "      <td>86</td>\n",
       "    </tr>\n",
       "    <tr>\n",
       "      <th>1</th>\n",
       "      <td>2.0</td>\n",
       "      <td>The Dark Knight</td>\n",
       "      <td>Elijah Wood</td>\n",
       "      <td>152 min</td>\n",
       "      <td>(2008)</td>\n",
       "      <td>9.0</td>\n",
       "      <td>84</td>\n",
       "    </tr>\n",
       "    <tr>\n",
       "      <th>2</th>\n",
       "      <td>3.0</td>\n",
       "      <td>The Lord of the Rings: The Return of the King</td>\n",
       "      <td>Ian McKellen</td>\n",
       "      <td>201 min</td>\n",
       "      <td>(2003)</td>\n",
       "      <td>9.0</td>\n",
       "      <td>94</td>\n",
       "    </tr>\n",
       "    <tr>\n",
       "      <th>3</th>\n",
       "      <td>4.0</td>\n",
       "      <td>Inception</td>\n",
       "      <td>Viggo Mortensen</td>\n",
       "      <td>148 min</td>\n",
       "      <td>(2010)</td>\n",
       "      <td>8.8</td>\n",
       "      <td>74</td>\n",
       "    </tr>\n",
       "    <tr>\n",
       "      <th>4</th>\n",
       "      <td>5.0</td>\n",
       "      <td>The Lord of the Rings: The Fellowship of the Ring</td>\n",
       "      <td>Orlando Bloom</td>\n",
       "      <td>178 min</td>\n",
       "      <td>(2001)</td>\n",
       "      <td>8.8</td>\n",
       "      <td>92</td>\n",
       "    </tr>\n",
       "  </tbody>\n",
       "</table>\n",
       "</div>"
      ],
      "text/plain": [
       "   Sno                                         movie_Name    Director_name  \\\n",
       "0  1.0                Spider-Man: Across the Spider-Verse    Peter Jackson   \n",
       "1  2.0                                    The Dark Knight      Elijah Wood   \n",
       "2  3.0      The Lord of the Rings: The Return of the King     Ian McKellen   \n",
       "3  4.0                                          Inception  Viggo Mortensen   \n",
       "4  5.0  The Lord of the Rings: The Fellowship of the Ring    Orlando Bloom   \n",
       "\n",
       "   Run_Time    Year  Ratings  metascore  \n",
       "0   140 min  (2023)      9.1         86  \n",
       "1   152 min  (2008)      9.0         84  \n",
       "2   201 min  (2003)      9.0         94  \n",
       "3   148 min  (2010)      8.8         74  \n",
       "4   178 min  (2001)      8.8         92  "
      ]
     },
     "execution_count": 95,
     "metadata": {},
     "output_type": "execute_result"
    }
   ],
   "source": [
    "df=pd.read_csv(\"firstdata.csv\")\n",
    "df"
   ]
  },
  {
   "cell_type": "code",
   "execution_count": 96,
   "id": "0b94dda9",
   "metadata": {},
   "outputs": [
    {
     "data": {
      "text/html": [
       "<div>\n",
       "<style scoped>\n",
       "    .dataframe tbody tr th:only-of-type {\n",
       "        vertical-align: middle;\n",
       "    }\n",
       "\n",
       "    .dataframe tbody tr th {\n",
       "        vertical-align: top;\n",
       "    }\n",
       "\n",
       "    .dataframe thead th {\n",
       "        text-align: right;\n",
       "    }\n",
       "</style>\n",
       "<table border=\"1\" class=\"dataframe\">\n",
       "  <thead>\n",
       "    <tr style=\"text-align: right;\">\n",
       "      <th></th>\n",
       "      <th>movie_Name</th>\n",
       "      <th>Stars</th>\n",
       "      <th>Votes</th>\n",
       "      <th>Genre</th>\n",
       "      <th>Gross_collection</th>\n",
       "      <th>Certification</th>\n",
       "    </tr>\n",
       "  </thead>\n",
       "  <tbody>\n",
       "    <tr>\n",
       "      <th>0</th>\n",
       "      <td>Spider-Man: Across the Spider-Verse</td>\n",
       "      <td>Joaquim Dos Santos</td>\n",
       "      <td>52,831</td>\n",
       "      <td>Animation, Action, Adventure</td>\n",
       "      <td>$534.86M</td>\n",
       "      <td>PG</td>\n",
       "    </tr>\n",
       "    <tr>\n",
       "      <th>1</th>\n",
       "      <td>The Dark Knight</td>\n",
       "      <td>Kemp Powers</td>\n",
       "      <td>2,720,209</td>\n",
       "      <td>Action, Crime, Drama</td>\n",
       "      <td>$377.85M</td>\n",
       "      <td>PG-13</td>\n",
       "    </tr>\n",
       "    <tr>\n",
       "      <th>2</th>\n",
       "      <td>The Lord of the Rings: The Return of the King</td>\n",
       "      <td>Justin K. Thompson</td>\n",
       "      <td>1,888,226</td>\n",
       "      <td>Action, Adventure, Drama</td>\n",
       "      <td>$292.58M</td>\n",
       "      <td>PG-13</td>\n",
       "    </tr>\n",
       "    <tr>\n",
       "      <th>3</th>\n",
       "      <td>Inception</td>\n",
       "      <td>Shameik Moore</td>\n",
       "      <td>2,414,641</td>\n",
       "      <td>Action, Adventure, Sci-Fi</td>\n",
       "      <td>$315.54M</td>\n",
       "      <td>PG-13</td>\n",
       "    </tr>\n",
       "    <tr>\n",
       "      <th>4</th>\n",
       "      <td>The Lord of the Rings: The Fellowship of the Ring</td>\n",
       "      <td>Hailee Steinfeld</td>\n",
       "      <td>1,916,841</td>\n",
       "      <td>Action, Adventure, Drama</td>\n",
       "      <td>$342.55M</td>\n",
       "      <td>PG-13</td>\n",
       "    </tr>\n",
       "  </tbody>\n",
       "</table>\n",
       "</div>"
      ],
      "text/plain": [
       "                                          movie_Name               Stars  \\\n",
       "0                Spider-Man: Across the Spider-Verse  Joaquim Dos Santos   \n",
       "1                                    The Dark Knight         Kemp Powers   \n",
       "2      The Lord of the Rings: The Return of the King  Justin K. Thompson   \n",
       "3                                          Inception       Shameik Moore   \n",
       "4  The Lord of the Rings: The Fellowship of the Ring    Hailee Steinfeld   \n",
       "\n",
       "       Votes                         Genre Gross_collection Certification  \n",
       "0     52,831  Animation, Action, Adventure         $534.86M            PG  \n",
       "1  2,720,209          Action, Crime, Drama         $377.85M         PG-13  \n",
       "2  1,888,226      Action, Adventure, Drama         $292.58M         PG-13  \n",
       "3  2,414,641     Action, Adventure, Sci-Fi         $315.54M         PG-13  \n",
       "4  1,916,841      Action, Adventure, Drama         $342.55M         PG-13  "
      ]
     },
     "execution_count": 96,
     "metadata": {},
     "output_type": "execute_result"
    }
   ],
   "source": [
    "dfdetail=pd.read_csv(\"seconddata.csv\")\n",
    "dfdetail"
   ]
  },
  {
   "cell_type": "code",
   "execution_count": 98,
   "id": "5de9e8d2",
   "metadata": {},
   "outputs": [],
   "source": [
    "dfall = pd.merge(df, dfdetail, how='inner', on = 'movie_Name')"
   ]
  },
  {
   "cell_type": "code",
   "execution_count": 99,
   "id": "f7b8e7b5",
   "metadata": {},
   "outputs": [
    {
     "data": {
      "text/html": [
       "<div>\n",
       "<style scoped>\n",
       "    .dataframe tbody tr th:only-of-type {\n",
       "        vertical-align: middle;\n",
       "    }\n",
       "\n",
       "    .dataframe tbody tr th {\n",
       "        vertical-align: top;\n",
       "    }\n",
       "\n",
       "    .dataframe thead th {\n",
       "        text-align: right;\n",
       "    }\n",
       "</style>\n",
       "<table border=\"1\" class=\"dataframe\">\n",
       "  <thead>\n",
       "    <tr style=\"text-align: right;\">\n",
       "      <th></th>\n",
       "      <th>Sno</th>\n",
       "      <th>movie_Name</th>\n",
       "      <th>Director_name</th>\n",
       "      <th>Run_Time</th>\n",
       "      <th>Year</th>\n",
       "      <th>Ratings</th>\n",
       "      <th>metascore</th>\n",
       "      <th>Stars</th>\n",
       "      <th>Votes</th>\n",
       "      <th>Genre</th>\n",
       "      <th>Gross_collection</th>\n",
       "      <th>Certification</th>\n",
       "    </tr>\n",
       "  </thead>\n",
       "  <tbody>\n",
       "    <tr>\n",
       "      <th>0</th>\n",
       "      <td>1.0</td>\n",
       "      <td>Spider-Man: Across the Spider-Verse</td>\n",
       "      <td>Peter Jackson</td>\n",
       "      <td>140 min</td>\n",
       "      <td>(2023)</td>\n",
       "      <td>9.1</td>\n",
       "      <td>86</td>\n",
       "      <td>Joaquim Dos Santos</td>\n",
       "      <td>52,831</td>\n",
       "      <td>Animation, Action, Adventure</td>\n",
       "      <td>$534.86M</td>\n",
       "      <td>PG</td>\n",
       "    </tr>\n",
       "    <tr>\n",
       "      <th>1</th>\n",
       "      <td>2.0</td>\n",
       "      <td>The Dark Knight</td>\n",
       "      <td>Elijah Wood</td>\n",
       "      <td>152 min</td>\n",
       "      <td>(2008)</td>\n",
       "      <td>9.0</td>\n",
       "      <td>84</td>\n",
       "      <td>Kemp Powers</td>\n",
       "      <td>2,720,209</td>\n",
       "      <td>Action, Crime, Drama</td>\n",
       "      <td>$377.85M</td>\n",
       "      <td>PG-13</td>\n",
       "    </tr>\n",
       "    <tr>\n",
       "      <th>2</th>\n",
       "      <td>3.0</td>\n",
       "      <td>The Lord of the Rings: The Return of the King</td>\n",
       "      <td>Ian McKellen</td>\n",
       "      <td>201 min</td>\n",
       "      <td>(2003)</td>\n",
       "      <td>9.0</td>\n",
       "      <td>94</td>\n",
       "      <td>Justin K. Thompson</td>\n",
       "      <td>1,888,226</td>\n",
       "      <td>Action, Adventure, Drama</td>\n",
       "      <td>$292.58M</td>\n",
       "      <td>PG-13</td>\n",
       "    </tr>\n",
       "    <tr>\n",
       "      <th>3</th>\n",
       "      <td>4.0</td>\n",
       "      <td>Inception</td>\n",
       "      <td>Viggo Mortensen</td>\n",
       "      <td>148 min</td>\n",
       "      <td>(2010)</td>\n",
       "      <td>8.8</td>\n",
       "      <td>74</td>\n",
       "      <td>Shameik Moore</td>\n",
       "      <td>2,414,641</td>\n",
       "      <td>Action, Adventure, Sci-Fi</td>\n",
       "      <td>$315.54M</td>\n",
       "      <td>PG-13</td>\n",
       "    </tr>\n",
       "    <tr>\n",
       "      <th>4</th>\n",
       "      <td>5.0</td>\n",
       "      <td>The Lord of the Rings: The Fellowship of the Ring</td>\n",
       "      <td>Orlando Bloom</td>\n",
       "      <td>178 min</td>\n",
       "      <td>(2001)</td>\n",
       "      <td>8.8</td>\n",
       "      <td>92</td>\n",
       "      <td>Hailee Steinfeld</td>\n",
       "      <td>1,916,841</td>\n",
       "      <td>Action, Adventure, Drama</td>\n",
       "      <td>$342.55M</td>\n",
       "      <td>PG-13</td>\n",
       "    </tr>\n",
       "  </tbody>\n",
       "</table>\n",
       "</div>"
      ],
      "text/plain": [
       "   Sno                                         movie_Name    Director_name  \\\n",
       "0  1.0                Spider-Man: Across the Spider-Verse    Peter Jackson   \n",
       "1  2.0                                    The Dark Knight      Elijah Wood   \n",
       "2  3.0      The Lord of the Rings: The Return of the King     Ian McKellen   \n",
       "3  4.0                                          Inception  Viggo Mortensen   \n",
       "4  5.0  The Lord of the Rings: The Fellowship of the Ring    Orlando Bloom   \n",
       "\n",
       "   Run_Time    Year  Ratings  metascore               Stars      Votes  \\\n",
       "0   140 min  (2023)      9.1         86  Joaquim Dos Santos     52,831   \n",
       "1   152 min  (2008)      9.0         84         Kemp Powers  2,720,209   \n",
       "2   201 min  (2003)      9.0         94  Justin K. Thompson  1,888,226   \n",
       "3   148 min  (2010)      8.8         74       Shameik Moore  2,414,641   \n",
       "4   178 min  (2001)      8.8         92    Hailee Steinfeld  1,916,841   \n",
       "\n",
       "                          Genre Gross_collection Certification  \n",
       "0  Animation, Action, Adventure         $534.86M            PG  \n",
       "1          Action, Crime, Drama         $377.85M         PG-13  \n",
       "2      Action, Adventure, Drama         $292.58M         PG-13  \n",
       "3     Action, Adventure, Sci-Fi         $315.54M         PG-13  \n",
       "4      Action, Adventure, Drama         $342.55M         PG-13  "
      ]
     },
     "execution_count": 99,
     "metadata": {},
     "output_type": "execute_result"
    }
   ],
   "source": [
    "dfall"
   ]
  },
  {
   "cell_type": "markdown",
   "id": "0581675d",
   "metadata": {},
   "source": [
    "# Q1) Display all details from both tables where movie names are the same."
   ]
  },
  {
   "cell_type": "code",
   "execution_count": 116,
   "id": "026a86d1",
   "metadata": {},
   "outputs": [
    {
     "name": "stdout",
     "output_type": "stream",
     "text": [
      "\u001b[1mThe join CSV file data contains  :\u001b[0m\n"
     ]
    },
    {
     "data": {
      "text/html": [
       "<div>\n",
       "<style scoped>\n",
       "    .dataframe tbody tr th:only-of-type {\n",
       "        vertical-align: middle;\n",
       "    }\n",
       "\n",
       "    .dataframe tbody tr th {\n",
       "        vertical-align: top;\n",
       "    }\n",
       "\n",
       "    .dataframe thead th {\n",
       "        text-align: right;\n",
       "    }\n",
       "</style>\n",
       "<table border=\"1\" class=\"dataframe\">\n",
       "  <thead>\n",
       "    <tr style=\"text-align: right;\">\n",
       "      <th></th>\n",
       "      <th>0</th>\n",
       "      <th>1</th>\n",
       "      <th>2</th>\n",
       "      <th>3</th>\n",
       "      <th>4</th>\n",
       "      <th>5</th>\n",
       "      <th>6</th>\n",
       "      <th>7</th>\n",
       "      <th>8</th>\n",
       "      <th>9</th>\n",
       "      <th>10</th>\n",
       "      <th>11</th>\n",
       "    </tr>\n",
       "  </thead>\n",
       "  <tbody>\n",
       "    <tr>\n",
       "      <th>0</th>\n",
       "      <td>1</td>\n",
       "      <td>The Dark Knight</td>\n",
       "      <td>Lana Wachowski</td>\n",
       "      <td>152 min</td>\n",
       "      <td>(2008)</td>\n",
       "      <td>9.0</td>\n",
       "      <td>84</td>\n",
       "      <td>Kemp Powers</td>\n",
       "      <td>2,719,653</td>\n",
       "      <td>Action, Crime, Drama</td>\n",
       "      <td>$377.85M</td>\n",
       "      <td>PG-13</td>\n",
       "    </tr>\n",
       "    <tr>\n",
       "      <th>1</th>\n",
       "      <td>2</td>\n",
       "      <td>The Lord of the Rings: The Return of the King</td>\n",
       "      <td>Lilly Wachowski</td>\n",
       "      <td>201 min</td>\n",
       "      <td>(2003)</td>\n",
       "      <td>9.0</td>\n",
       "      <td>94</td>\n",
       "      <td>Justin K. Thompson</td>\n",
       "      <td>1,887,936</td>\n",
       "      <td>Action, Adventure, Drama</td>\n",
       "      <td>$292.58M</td>\n",
       "      <td>PG-13</td>\n",
       "    </tr>\n",
       "    <tr>\n",
       "      <th>2</th>\n",
       "      <td>3</td>\n",
       "      <td>Inception</td>\n",
       "      <td>Keanu Reeves</td>\n",
       "      <td>148 min</td>\n",
       "      <td>(2010)</td>\n",
       "      <td>8.8</td>\n",
       "      <td>74</td>\n",
       "      <td>Shameik Moore</td>\n",
       "      <td>2,414,227</td>\n",
       "      <td>Action, Adventure, Sci-Fi</td>\n",
       "      <td>$315.54M</td>\n",
       "      <td>PG-13</td>\n",
       "    </tr>\n",
       "    <tr>\n",
       "      <th>3</th>\n",
       "      <td>4</td>\n",
       "      <td>The Lord of the Rings: The Fellowship of the Ring</td>\n",
       "      <td>Laurence Fishburne</td>\n",
       "      <td>178 min</td>\n",
       "      <td>(2001)</td>\n",
       "      <td>8.8</td>\n",
       "      <td>92</td>\n",
       "      <td>Hailee Steinfeld</td>\n",
       "      <td>1,916,556</td>\n",
       "      <td>Action, Adventure, Drama</td>\n",
       "      <td>$342.55M</td>\n",
       "      <td>PG-13</td>\n",
       "    </tr>\n",
       "  </tbody>\n",
       "</table>\n",
       "</div>"
      ],
      "text/plain": [
       "   0                                                  1                   2   \\\n",
       "0   1                                    The Dark Knight      Lana Wachowski   \n",
       "1   2      The Lord of the Rings: The Return of the King     Lilly Wachowski   \n",
       "2   3                                          Inception        Keanu Reeves   \n",
       "3   4  The Lord of the Rings: The Fellowship of the Ring  Laurence Fishburne   \n",
       "\n",
       "        3       4    5   6                   7          8   \\\n",
       "0  152 min  (2008)  9.0  84         Kemp Powers  2,719,653   \n",
       "1  201 min  (2003)  9.0  94  Justin K. Thompson  1,887,936   \n",
       "2  148 min  (2010)  8.8  74       Shameik Moore  2,414,227   \n",
       "3  178 min  (2001)  8.8  92    Hailee Steinfeld  1,916,556   \n",
       "\n",
       "                          9         10     11  \n",
       "0       Action, Crime, Drama  $377.85M  PG-13  \n",
       "1   Action, Adventure, Drama  $292.58M  PG-13  \n",
       "2  Action, Adventure, Sci-Fi  $315.54M  PG-13  \n",
       "3   Action, Adventure, Drama  $342.55M  PG-13  "
      ]
     },
     "execution_count": 116,
     "metadata": {},
     "output_type": "execute_result"
    }
   ],
   "source": [
    "#creating dataframe\n",
    "dall=pd.DataFrame(cursor.execute('SELECT firstdata.Sno ,firstdata.movie_name, firstdata.Director_name , firstdata.Run_Time , firstdata.Year , firstdata.Ratings , firstdata.metascore , seconddata.Stars , seconddata.Votes ,seconddata.Genre , seconddata.Gross_collection , seconddata.Certification FROM firstdata INNER JOIN seconddata ON firstdata.movie_Name=seconddata.Movie_Name'))\n",
    "print('\\033[1m'+'The join CSV file data contains  :'+'\\033[0m')\n",
    "dall"
   ]
  },
  {
   "cell_type": "markdown",
   "id": "926be678",
   "metadata": {},
   "source": [
    "# Q2) Display all movie names, Director, ratings, and gross collection where the genre is action."
   ]
  },
  {
   "cell_type": "code",
   "execution_count": 115,
   "id": "225169d7",
   "metadata": {},
   "outputs": [
    {
     "name": "stdout",
     "output_type": "stream",
     "text": [
      "\u001b[1mThe join CSV file data contains  :\u001b[0m\n"
     ]
    },
    {
     "data": {
      "text/html": [
       "<div>\n",
       "<style scoped>\n",
       "    .dataframe tbody tr th:only-of-type {\n",
       "        vertical-align: middle;\n",
       "    }\n",
       "\n",
       "    .dataframe tbody tr th {\n",
       "        vertical-align: top;\n",
       "    }\n",
       "\n",
       "    .dataframe thead th {\n",
       "        text-align: right;\n",
       "    }\n",
       "</style>\n",
       "<table border=\"1\" class=\"dataframe\">\n",
       "  <thead>\n",
       "    <tr style=\"text-align: right;\">\n",
       "      <th></th>\n",
       "    </tr>\n",
       "  </thead>\n",
       "  <tbody>\n",
       "  </tbody>\n",
       "</table>\n",
       "</div>"
      ],
      "text/plain": [
       "Empty DataFrame\n",
       "Columns: []\n",
       "Index: []"
      ]
     },
     "execution_count": 115,
     "metadata": {},
     "output_type": "execute_result"
    }
   ],
   "source": [
    "#creating dataframe\n",
    "dall=pd.DataFrame(cursor.execute(\"SELECT firstdata.movie_name , firstdata.Director_name , firstdata.Ratings , seconddata.Gross_collection from firstdata INNER JOIN seconddata WHERE Genre in ('Action')\"))\n",
    "print('\\033[1m'+'The join CSV file data contains  :'+'\\033[0m')\n",
    "dall\n"
   ]
  },
  {
   "cell_type": "markdown",
   "id": "746ca916",
   "metadata": {},
   "source": [
    "# Q3)Display all details from both tables with the highest gross collection."
   ]
  },
  {
   "cell_type": "code",
   "execution_count": 114,
   "id": "df200757",
   "metadata": {},
   "outputs": [
    {
     "name": "stdout",
     "output_type": "stream",
     "text": [
      "\u001b[1mThe join CSV file data contains  :\u001b[0m\n"
     ]
    },
    {
     "data": {
      "text/html": [
       "<div>\n",
       "<style scoped>\n",
       "    .dataframe tbody tr th:only-of-type {\n",
       "        vertical-align: middle;\n",
       "    }\n",
       "\n",
       "    .dataframe tbody tr th {\n",
       "        vertical-align: top;\n",
       "    }\n",
       "\n",
       "    .dataframe thead th {\n",
       "        text-align: right;\n",
       "    }\n",
       "</style>\n",
       "<table border=\"1\" class=\"dataframe\">\n",
       "  <thead>\n",
       "    <tr style=\"text-align: right;\">\n",
       "      <th></th>\n",
       "      <th>0</th>\n",
       "      <th>1</th>\n",
       "      <th>2</th>\n",
       "      <th>3</th>\n",
       "      <th>4</th>\n",
       "      <th>5</th>\n",
       "      <th>6</th>\n",
       "      <th>7</th>\n",
       "      <th>8</th>\n",
       "      <th>9</th>\n",
       "      <th>10</th>\n",
       "      <th>11</th>\n",
       "    </tr>\n",
       "  </thead>\n",
       "  <tbody>\n",
       "    <tr>\n",
       "      <th>0</th>\n",
       "      <td>1</td>\n",
       "      <td>The Dark Knight</td>\n",
       "      <td>Lana Wachowski</td>\n",
       "      <td>152 min</td>\n",
       "      <td>(2008)</td>\n",
       "      <td>9.0</td>\n",
       "      <td>84</td>\n",
       "      <td>Kemp Powers</td>\n",
       "      <td>2,719,653</td>\n",
       "      <td>Action, Crime, Drama</td>\n",
       "      <td>$377.85M</td>\n",
       "      <td>PG-13</td>\n",
       "    </tr>\n",
       "  </tbody>\n",
       "</table>\n",
       "</div>"
      ],
      "text/plain": [
       "   0                1               2        3       4    5   6            7   \\\n",
       "0   1  The Dark Knight  Lana Wachowski  152 min  (2008)  9.0  84  Kemp Powers   \n",
       "\n",
       "          8                     9         10     11  \n",
       "0  2,719,653  Action, Crime, Drama  $377.85M  PG-13  "
      ]
     },
     "execution_count": 114,
     "metadata": {},
     "output_type": "execute_result"
    }
   ],
   "source": [
    "#creating dataframe\n",
    "dall=pd.DataFrame(cursor.execute(\"SELECT firstdata.Sno ,firstdata.movie_name, firstdata.Director_name , firstdata.Run_Time , firstdata.Year , firstdata.Ratings , firstdata.metascore , seconddata.Stars , seconddata.Votes ,seconddata.Genre , MAX(seconddata.Gross_collection) , seconddata.Certification FROM firstdata INNER JOIN seconddata ON firstdata.movie_Name=seconddata.Movie_Name\"))\n",
    "print('\\033[1m'+'The join CSV file data contains  :'+'\\033[0m')\n",
    "dall"
   ]
  },
  {
   "cell_type": "markdown",
   "id": "ee0b1916",
   "metadata": {},
   "source": [
    "# Q4)      Display all details from both tables with the highest ratings"
   ]
  },
  {
   "cell_type": "code",
   "execution_count": 113,
   "id": "4a63cf52",
   "metadata": {},
   "outputs": [
    {
     "name": "stdout",
     "output_type": "stream",
     "text": [
      "\u001b[1mThe join CSV file data contains  :\u001b[0m\n"
     ]
    },
    {
     "data": {
      "text/html": [
       "<div>\n",
       "<style scoped>\n",
       "    .dataframe tbody tr th:only-of-type {\n",
       "        vertical-align: middle;\n",
       "    }\n",
       "\n",
       "    .dataframe tbody tr th {\n",
       "        vertical-align: top;\n",
       "    }\n",
       "\n",
       "    .dataframe thead th {\n",
       "        text-align: right;\n",
       "    }\n",
       "</style>\n",
       "<table border=\"1\" class=\"dataframe\">\n",
       "  <thead>\n",
       "    <tr style=\"text-align: right;\">\n",
       "      <th></th>\n",
       "      <th>0</th>\n",
       "      <th>1</th>\n",
       "      <th>2</th>\n",
       "      <th>3</th>\n",
       "      <th>4</th>\n",
       "      <th>5</th>\n",
       "      <th>6</th>\n",
       "      <th>7</th>\n",
       "      <th>8</th>\n",
       "      <th>9</th>\n",
       "      <th>10</th>\n",
       "      <th>11</th>\n",
       "    </tr>\n",
       "  </thead>\n",
       "  <tbody>\n",
       "    <tr>\n",
       "      <th>0</th>\n",
       "      <td>1</td>\n",
       "      <td>The Dark Knight</td>\n",
       "      <td>Lana Wachowski</td>\n",
       "      <td>152 min</td>\n",
       "      <td>(2008)</td>\n",
       "      <td>9.0</td>\n",
       "      <td>84</td>\n",
       "      <td>Kemp Powers</td>\n",
       "      <td>2,719,653</td>\n",
       "      <td>Action, Crime, Drama</td>\n",
       "      <td>$377.85M</td>\n",
       "      <td>PG-13</td>\n",
       "    </tr>\n",
       "  </tbody>\n",
       "</table>\n",
       "</div>"
      ],
      "text/plain": [
       "   0                1               2        3       4    5   6            7   \\\n",
       "0   1  The Dark Knight  Lana Wachowski  152 min  (2008)  9.0  84  Kemp Powers   \n",
       "\n",
       "          8                     9         10     11  \n",
       "0  2,719,653  Action, Crime, Drama  $377.85M  PG-13  "
      ]
     },
     "execution_count": 113,
     "metadata": {},
     "output_type": "execute_result"
    }
   ],
   "source": [
    "#creating dataframe\n",
    "dall=pd.DataFrame(cursor.execute(\"SELECT firstdata.Sno ,firstdata.movie_name, firstdata.Director_name , firstdata.Run_Time , firstdata.Year , MAX(firstdata.Ratings) , firstdata.metascore , seconddata.Stars , seconddata.Votes ,seconddata.Genre , seconddata.Gross_collection , seconddata.Certification FROM firstdata INNER JOIN seconddata ON firstdata.movie_Name=seconddata.Movie_Name\"))\n",
    "print('\\033[1m'+'The join CSV file data contains  :'+'\\033[0m')\n",
    "dall"
   ]
  },
  {
   "cell_type": "markdown",
   "id": "90349634",
   "metadata": {},
   "source": [
    "# Q5)      Display all details from both tables with the lowest gross collection and lowest ratings"
   ]
  },
  {
   "cell_type": "code",
   "execution_count": 112,
   "id": "6644389e",
   "metadata": {},
   "outputs": [
    {
     "name": "stdout",
     "output_type": "stream",
     "text": [
      "\u001b[1mThe join CSV file data contains  :\u001b[0m\n"
     ]
    },
    {
     "data": {
      "text/html": [
       "<div>\n",
       "<style scoped>\n",
       "    .dataframe tbody tr th:only-of-type {\n",
       "        vertical-align: middle;\n",
       "    }\n",
       "\n",
       "    .dataframe tbody tr th {\n",
       "        vertical-align: top;\n",
       "    }\n",
       "\n",
       "    .dataframe thead th {\n",
       "        text-align: right;\n",
       "    }\n",
       "</style>\n",
       "<table border=\"1\" class=\"dataframe\">\n",
       "  <thead>\n",
       "    <tr style=\"text-align: right;\">\n",
       "      <th></th>\n",
       "      <th>0</th>\n",
       "      <th>1</th>\n",
       "      <th>2</th>\n",
       "      <th>3</th>\n",
       "      <th>4</th>\n",
       "      <th>5</th>\n",
       "      <th>6</th>\n",
       "      <th>7</th>\n",
       "      <th>8</th>\n",
       "      <th>9</th>\n",
       "      <th>10</th>\n",
       "      <th>11</th>\n",
       "    </tr>\n",
       "  </thead>\n",
       "  <tbody>\n",
       "    <tr>\n",
       "      <th>0</th>\n",
       "      <td>2</td>\n",
       "      <td>The Lord of the Rings: The Return of the King</td>\n",
       "      <td>Lilly Wachowski</td>\n",
       "      <td>201 min</td>\n",
       "      <td>(2003)</td>\n",
       "      <td>8.8</td>\n",
       "      <td>94</td>\n",
       "      <td>Justin K. Thompson</td>\n",
       "      <td>1,887,936</td>\n",
       "      <td>Action, Adventure, Drama</td>\n",
       "      <td>$292.58M</td>\n",
       "      <td>PG-13</td>\n",
       "    </tr>\n",
       "  </tbody>\n",
       "</table>\n",
       "</div>"
      ],
      "text/plain": [
       "   0                                              1                2   \\\n",
       "0   2  The Lord of the Rings: The Return of the King  Lilly Wachowski   \n",
       "\n",
       "        3       4    5   6                   7          8   \\\n",
       "0  201 min  (2003)  8.8  94  Justin K. Thompson  1,887,936   \n",
       "\n",
       "                         9         10     11  \n",
       "0  Action, Adventure, Drama  $292.58M  PG-13  "
      ]
     },
     "execution_count": 112,
     "metadata": {},
     "output_type": "execute_result"
    }
   ],
   "source": [
    "#creating dataframe\n",
    "dall=pd.DataFrame(cursor.execute(\"SELECT firstdata.Sno ,firstdata.movie_name, firstdata.Director_name , firstdata.Run_Time , firstdata.Year , MIN(firstdata.Ratings) , firstdata.metascore , seconddata.Stars , seconddata.Votes ,seconddata.Genre , MIN(seconddata.Gross_collection) , seconddata.Certification FROM firstdata INNER JOIN seconddata ON firstdata.movie_Name=seconddata.Movie_Name\"))\n",
    "print('\\033[1m'+'The join CSV file data contains  :'+'\\033[0m')\n",
    "dall"
   ]
  },
  {
   "cell_type": "code",
   "execution_count": null,
   "id": "291f5893",
   "metadata": {},
   "outputs": [],
   "source": []
  }
 ],
 "metadata": {
  "kernelspec": {
   "display_name": "Python 3 (ipykernel)",
   "language": "python",
   "name": "python3"
  },
  "language_info": {
   "codemirror_mode": {
    "name": "ipython",
    "version": 3
   },
   "file_extension": ".py",
   "mimetype": "text/x-python",
   "name": "python",
   "nbconvert_exporter": "python",
   "pygments_lexer": "ipython3",
   "version": "3.9.12"
  }
 },
 "nbformat": 4,
 "nbformat_minor": 5
}
