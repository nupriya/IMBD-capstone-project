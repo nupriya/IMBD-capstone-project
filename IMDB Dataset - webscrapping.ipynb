{
 "cells": [
  {
   "cell_type": "markdown",
   "id": "e7ac0161",
   "metadata": {},
   "source": [
    "# IMDB Dataset - WEBScrapping\n",
    "### NUPRIYA saxena\n",
    "#### Internship -34\n",
    "##### Batch-DS0622"
   ]
  },
  {
   "cell_type": "markdown",
   "id": "d09cd313",
   "metadata": {},
   "source": [
    "# Capstone Project\n",
    "# IBDM Dataset\n",
    "\n",
    "<b>This capstone is divided into a 4-phase duration. In this document, the entire details of the 4-phase(weekly) duration are given.<b>"
   ]
  },
  {
   "cell_type": "markdown",
   "id": "4a736aa5",
   "metadata": {},
   "source": [
    "# Phase 1\n",
    "\n",
    "### 1) Webscrape the provided URL  - IMDB dataset:\n",
    "\n",
    "https://www.imdb.com/search/title/?genres=action&sort=user_rating,desc&title_type=feature&num_votes=25000,&pf_rd_m=A2FGELUUNOQJNL&pf_rd_p=f11158cc-b50b-4c4d-b0a2-40b32863395b&pf_rd_r=XZ8X52H1R40B7KG5SNZ9&pf_rd_s=right-6&pf_rd_t=15506&pf_rd_i=top&ref_=chttp_gnr_1"
   ]
  },
  {
   "cell_type": "code",
   "execution_count": 1,
   "id": "d7091ed2",
   "metadata": {},
   "outputs": [
    {
     "name": "stdout",
     "output_type": "stream",
     "text": [
      "Defaulting to user installation because normal site-packages is not writeable\n",
      "Requirement already satisfied: selenium in c:\\users\\dell\\appdata\\roaming\\python\\python39\\site-packages (4.7.2)\n",
      "Requirement already satisfied: certifi>=2021.10.8 in c:\\programdata\\anaconda3\\lib\\site-packages (from selenium) (2021.10.8)\n",
      "Requirement already satisfied: trio-websocket~=0.9 in c:\\users\\dell\\appdata\\roaming\\python\\python39\\site-packages (from selenium) (0.9.2)\n",
      "Requirement already satisfied: urllib3[socks]~=1.26 in c:\\programdata\\anaconda3\\lib\\site-packages (from selenium) (1.26.9)\n",
      "Requirement already satisfied: trio~=0.17 in c:\\users\\dell\\appdata\\roaming\\python\\python39\\site-packages (from selenium) (0.22.0)\n",
      "Requirement already satisfied: sortedcontainers in c:\\programdata\\anaconda3\\lib\\site-packages (from trio~=0.17->selenium) (2.4.0)\n",
      "Requirement already satisfied: idna in c:\\programdata\\anaconda3\\lib\\site-packages (from trio~=0.17->selenium) (3.3)\n",
      "Requirement already satisfied: attrs>=19.2.0 in c:\\programdata\\anaconda3\\lib\\site-packages (from trio~=0.17->selenium) (21.4.0)\n",
      "Requirement already satisfied: outcome in c:\\users\\dell\\appdata\\roaming\\python\\python39\\site-packages (from trio~=0.17->selenium) (1.2.0)\n",
      "Requirement already satisfied: sniffio in c:\\programdata\\anaconda3\\lib\\site-packages (from trio~=0.17->selenium) (1.2.0)\n",
      "Requirement already satisfied: async-generator>=1.9 in c:\\users\\dell\\appdata\\roaming\\python\\python39\\site-packages (from trio~=0.17->selenium) (1.10)\n",
      "Requirement already satisfied: exceptiongroup>=1.0.0rc9 in c:\\users\\dell\\appdata\\roaming\\python\\python39\\site-packages (from trio~=0.17->selenium) (1.0.4)\n",
      "Requirement already satisfied: cffi>=1.14 in c:\\programdata\\anaconda3\\lib\\site-packages (from trio~=0.17->selenium) (1.15.0)\n",
      "Requirement already satisfied: pycparser in c:\\programdata\\anaconda3\\lib\\site-packages (from cffi>=1.14->trio~=0.17->selenium) (2.21)\n",
      "Requirement already satisfied: wsproto>=0.14 in c:\\users\\dell\\appdata\\roaming\\python\\python39\\site-packages (from trio-websocket~=0.9->selenium) (1.2.0)\n",
      "Requirement already satisfied: PySocks!=1.5.7,<2.0,>=1.5.6 in c:\\programdata\\anaconda3\\lib\\site-packages (from urllib3[socks]~=1.26->selenium) (1.7.1)\n",
      "Requirement already satisfied: h11<1,>=0.9.0 in c:\\users\\dell\\appdata\\roaming\\python\\python39\\site-packages (from wsproto>=0.14->trio-websocket~=0.9->selenium) (0.14.0)\n"
     ]
    }
   ],
   "source": [
    "!pip install selenium"
   ]
  },
  {
   "cell_type": "code",
   "execution_count": 2,
   "id": "2fe2dc79",
   "metadata": {},
   "outputs": [],
   "source": [
    "import selenium\n",
    "import pandas as pd\n",
    "from selenium import webdriver\n",
    "import warnings\n",
    "warnings.filterwarnings('ignore')\n",
    "from selenium.common.exceptions import StaleElementReferenceException, NoSuchElementException ,  ElementNotInteractableException\n",
    "from selenium.webdriver.common.by import By\n",
    "import time"
   ]
  },
  {
   "cell_type": "code",
   "execution_count": 3,
   "id": "70945d6a",
   "metadata": {},
   "outputs": [],
   "source": [
    "# let's first connect to the web driver\n",
    "driver = webdriver.Chrome(r\"c:\\Users\\dell\\Downloads\\chromedriver_win32\\chromedriver.exe\")\n",
    "time.sleep(1)"
   ]
  },
  {
   "cell_type": "code",
   "execution_count": 4,
   "id": "05b88ea9",
   "metadata": {},
   "outputs": [],
   "source": [
    "url = \"https://www.imdb.com/search/title/?genres=action&sort=user_rating,desc&title_type=feature&num_votes=25000,&pf_rd_m=A2FGELUUNOQJNL&pf_rd_p=f11158cc-b50b-4c4d-b0a2-40b32863395b&pf_rd_r=XZ8X52H1R40B7KG5SNZ9&pf_rd_s=right-6&pf_rd_t=15506&pf_rd_i=top&ref_=chttp_gnr_1\"\n",
    "driver.get(url)\n",
    "time.sleep(1)"
   ]
  },
  {
   "cell_type": "markdown",
   "id": "89d8a8ed",
   "metadata": {},
   "source": [
    "## 2) Store the entire data in two different CSV files as per the given fields:\n",
    "\n",
    "<u><b> The first CSV file data contains :<b><u>\n",
    "\n",
    "<b>Sno, Movie Name, Director Name, Duration, year, ratings, Metascore<b>\n",
    "\n",
    "\n",
    "\n",
    " "
   ]
  },
  {
   "cell_type": "code",
   "execution_count": 5,
   "id": "d0f3c67f",
   "metadata": {},
   "outputs": [],
   "source": [
    "# Creating Empty List for first CSV file\n",
    "Sno=[]\n",
    "movie_Name =[]\n",
    "Director_name=[]\n",
    "Run_Time =[]\n",
    "Year=[]\n",
    "Ratings =[]\n",
    "metascore =[]\n"
   ]
  },
  {
   "cell_type": "code",
   "execution_count": 6,
   "id": "1d20a7a2",
   "metadata": {},
   "outputs": [],
   "source": [
    "# Scraping serial number via Xpath\n",
    "try:\n",
    "    Sn=driver.find_elements(By.XPATH,\"//span[@class='lister-item-index unbold text-primary']\")\n",
    "    for i in Sn:\n",
    "        Sno.append(i.text)\n",
    "except NoSuchElementException:\n",
    "    Sno.append('NA')\n",
    "\n",
    "# Scraping Movie Name via Xpath\n",
    "try:\n",
    "    movieName=driver.find_elements(By.XPATH,\"//h3[@class='lister-item-header']/a\")\n",
    "    for i in movieName:\n",
    "        movie_Name.append(i.text)\n",
    "except NoSuchElementException:\n",
    "    movie_Name.append('NA')\n",
    "    \n",
    "    # Scraping Director_name via Xpath\n",
    "try:\n",
    "    Directorname=driver.find_elements(By.XPATH,\"/html/body/div[2]/div/div[2]/div[3]/div[1]/div/div[3]/div/div[6]/div[3]/p[3]/a\" or \"/html/body/div[2]/div/div[2]/div[3]/div[1]/div/div[3]/div/div[6]/div[3]/p[3]/a\")\n",
    "                                      \n",
    "    for i in Directorname:\n",
    "        Director_name.append(i.text)                    \n",
    "                  \n",
    "except NoSuchElementException:\n",
    "        Director_name.append('NA')\n",
    "    \n",
    "    \n",
    "    # Scraping RunTime via Xpath\n",
    "try:\n",
    "    runtime=driver.find_elements(By.XPATH,\"// span[@class='runtime']\")\n",
    "    for i in runtime:\n",
    "        Run_Time.append(i.text)\n",
    "except NoSuchElementException:\n",
    "    Run_Time.append('NA')\n",
    "    \n",
    "\n",
    "# Scraping Year span via Xpath\n",
    "try:\n",
    "    years=driver.find_elements(By.XPATH,\"//span[@class='lister-item-year text-muted unbold']\")\n",
    "    for i in years:\n",
    "        Year.append(i.text)\n",
    "except NoSuchElementException:\n",
    "    Year.append('NA')\n",
    "    \n",
    "    \n",
    "    # Scraping Ratings via Xpath\n",
    "try:\n",
    "    ratings=driver.find_elements(By.XPATH,\"//div[@class='inline-block ratings-imdb-rating']\")\n",
    "    for i in ratings:\n",
    "        Ratings.append(i.text)\n",
    "except NoSuchElementException:\n",
    "    Ratings.append('NA')\n",
    "\n",
    "# Scraping metascore via Xpath\n",
    "try:\n",
    "    metascores=driver.find_elements(By.XPATH,\"//span[@class='metascore  favorable']\")\n",
    "    for i in metascores:\n",
    "        metascore.append(i.text)\n",
    "except NoSuchElementException:\n",
    "    metascore.append('NA')"
   ]
  },
  {
   "cell_type": "code",
   "execution_count": 7,
   "id": "8f407461",
   "metadata": {},
   "outputs": [
    {
     "name": "stdout",
     "output_type": "stream",
     "text": [
      "50 50 5 50 50 50 38\n"
     ]
    }
   ],
   "source": [
    "print(len(Sno),len(movie_Name),len(Director_name),len(Run_Time),len(Year),len(Ratings),len(metascore))"
   ]
  },
  {
   "cell_type": "code",
   "execution_count": 8,
   "id": "217b66fc",
   "metadata": {},
   "outputs": [
    {
     "name": "stdout",
     "output_type": "stream",
     "text": [
      "\u001b[1mThe first CSV file data contains  :\u001b[0m\n"
     ]
    },
    {
     "data": {
      "text/html": [
       "<div>\n",
       "<style scoped>\n",
       "    .dataframe tbody tr th:only-of-type {\n",
       "        vertical-align: middle;\n",
       "    }\n",
       "\n",
       "    .dataframe tbody tr th {\n",
       "        vertical-align: top;\n",
       "    }\n",
       "\n",
       "    .dataframe thead th {\n",
       "        text-align: right;\n",
       "    }\n",
       "</style>\n",
       "<table border=\"1\" class=\"dataframe\">\n",
       "  <thead>\n",
       "    <tr style=\"text-align: right;\">\n",
       "      <th></th>\n",
       "      <th>movie_Name</th>\n",
       "      <th>Director_name</th>\n",
       "      <th>Run_Time</th>\n",
       "      <th>Year</th>\n",
       "      <th>Ratings</th>\n",
       "      <th>metascore</th>\n",
       "    </tr>\n",
       "    <tr>\n",
       "      <th>Sno</th>\n",
       "      <th></th>\n",
       "      <th></th>\n",
       "      <th></th>\n",
       "      <th></th>\n",
       "      <th></th>\n",
       "      <th></th>\n",
       "    </tr>\n",
       "  </thead>\n",
       "  <tbody>\n",
       "    <tr>\n",
       "      <th>1.</th>\n",
       "      <td>Spider-Man: Across the Spider-Verse</td>\n",
       "      <td>Peter Jackson</td>\n",
       "      <td>140 min</td>\n",
       "      <td>(2023)</td>\n",
       "      <td>9.1</td>\n",
       "      <td>86</td>\n",
       "    </tr>\n",
       "    <tr>\n",
       "      <th>2.</th>\n",
       "      <td>The Dark Knight</td>\n",
       "      <td>Elijah Wood</td>\n",
       "      <td>152 min</td>\n",
       "      <td>(2008)</td>\n",
       "      <td>9.0</td>\n",
       "      <td>84</td>\n",
       "    </tr>\n",
       "    <tr>\n",
       "      <th>3.</th>\n",
       "      <td>The Lord of the Rings: The Return of the King</td>\n",
       "      <td>Ian McKellen</td>\n",
       "      <td>201 min</td>\n",
       "      <td>(2003)</td>\n",
       "      <td>9.0</td>\n",
       "      <td>94</td>\n",
       "    </tr>\n",
       "    <tr>\n",
       "      <th>4.</th>\n",
       "      <td>Inception</td>\n",
       "      <td>Viggo Mortensen</td>\n",
       "      <td>148 min</td>\n",
       "      <td>(2010)</td>\n",
       "      <td>8.8</td>\n",
       "      <td>74</td>\n",
       "    </tr>\n",
       "    <tr>\n",
       "      <th>5.</th>\n",
       "      <td>The Lord of the Rings: The Fellowship of the Ring</td>\n",
       "      <td>Orlando Bloom</td>\n",
       "      <td>178 min</td>\n",
       "      <td>(2001)</td>\n",
       "      <td>8.8</td>\n",
       "      <td>92</td>\n",
       "    </tr>\n",
       "  </tbody>\n",
       "</table>\n",
       "</div>"
      ],
      "text/plain": [
       "                                            movie_Name    Director_name  \\\n",
       "Sno                                                                       \n",
       "1.                 Spider-Man: Across the Spider-Verse    Peter Jackson   \n",
       "2.                                     The Dark Knight      Elijah Wood   \n",
       "3.       The Lord of the Rings: The Return of the King     Ian McKellen   \n",
       "4.                                           Inception  Viggo Mortensen   \n",
       "5.   The Lord of the Rings: The Fellowship of the Ring    Orlando Bloom   \n",
       "\n",
       "     Run_Time    Year Ratings metascore  \n",
       "Sno                                      \n",
       "1.    140 min  (2023)     9.1        86  \n",
       "2.    152 min  (2008)     9.0        84  \n",
       "3.    201 min  (2003)     9.0        94  \n",
       "4.    148 min  (2010)     8.8        74  \n",
       "5.    178 min  (2001)     8.8        92  "
      ]
     },
     "execution_count": 8,
     "metadata": {},
     "output_type": "execute_result"
    }
   ],
   "source": [
    "#creating dataframe\n",
    "firstdata=pd.DataFrame({\"Sno\":Sno[:5],\n",
    "                \"movie_Name\":movie_Name[:5],\n",
    "                'Director_name':Director_name[:5],\n",
    "                ' Run_Time': Run_Time[:5],\n",
    "                'Year':Year[:5],\n",
    "                'Ratings': Ratings[:5],\n",
    "                'metascore': metascore[:5]}).set_index('Sno')\n",
    "print('\\033[1m'+'The first CSV file data contains  :'+'\\033[0m')\n",
    "firstdata"
   ]
  },
  {
   "cell_type": "code",
   "execution_count": 9,
   "id": "0f44bbce",
   "metadata": {},
   "outputs": [],
   "source": [
    "firstdata.to_csv('firstdata.csv')"
   ]
  },
  {
   "cell_type": "code",
   "execution_count": 10,
   "id": "697886ef",
   "metadata": {},
   "outputs": [],
   "source": [
    "# Closing the driver\n",
    "driver.close()"
   ]
  },
  {
   "cell_type": "markdown",
   "id": "667ce8fa",
   "metadata": {},
   "source": [
    " <u><b>The second CSV file contains the following:<b><u>\n",
    "\n",
    "<b>Movie Name, stars, votes, Genre, Gross collection, Certification<b>\n"
   ]
  },
  {
   "cell_type": "code",
   "execution_count": 11,
   "id": "d29ecc88",
   "metadata": {},
   "outputs": [],
   "source": [
    "import selenium\n",
    "import pandas as pd\n",
    "from selenium import webdriver\n",
    "import warnings\n",
    "warnings.filterwarnings('ignore')\n",
    "from selenium.common.exceptions import StaleElementReferenceException, NoSuchElementException ,  ElementNotInteractableException\n",
    "from selenium.webdriver.common.by import By\n",
    "import time"
   ]
  },
  {
   "cell_type": "code",
   "execution_count": 12,
   "id": "8b8a7b59",
   "metadata": {},
   "outputs": [],
   "source": [
    "# let's first connect to the web driver\n",
    "driver = webdriver.Chrome(r\"c:\\Users\\dell\\Downloads\\chromedriver_win32\\chromedriver.exe\")\n",
    "time.sleep(1)"
   ]
  },
  {
   "cell_type": "code",
   "execution_count": 13,
   "id": "60f2b678",
   "metadata": {},
   "outputs": [],
   "source": [
    "url = \"https://www.imdb.com/search/title/?genres=action&sort=user_rating,desc&title_type=feature&num_votes=25000,&pf_rd_m=A2FGELUUNOQJNL&pf_rd_p=f11158cc-b50b-4c4d-b0a2-40b32863395b&pf_rd_r=XZ8X52H1R40B7KG5SNZ9&pf_rd_s=right-6&pf_rd_t=15506&pf_rd_i=top&ref_=chttp_gnr_1\"\n",
    "driver.get(url)\n",
    "time.sleep(1)"
   ]
  },
  {
   "cell_type": "code",
   "execution_count": 14,
   "id": "18215254",
   "metadata": {},
   "outputs": [],
   "source": [
    "# Creating Empty List for first CSV file\n",
    "movie_Name=[]\n",
    "Stars=[]\n",
    "Votes=[]\n",
    "Genre=[]\n",
    "Gross_collection=[]\n",
    "\n",
    "Certification=[]"
   ]
  },
  {
   "cell_type": "code",
   "execution_count": 15,
   "id": "9cb73926",
   "metadata": {},
   "outputs": [],
   "source": [
    "# Scraping Movies name via Xpath\n",
    "try:\n",
    "    Movie_Name=driver.find_elements(By.XPATH,\"//h3[@class='lister-item-header']/a\")\n",
    "    for i in Movie_Name:\n",
    "        movie_Name.append(i.text)\n",
    "except NoSuchElementException:\n",
    "    movie_Name.append('NA')\n",
    "\n",
    "\n",
    "# Scraping stars via Xpath\n",
    "try:\n",
    "    stars=driver.find_elements(By.XPATH,\"/html/body/div[2]/div/div[2]/div[3]/div[1]/div/div[3]/div/div[1]/div[3]/p[3]/a\")\n",
    "    for i in stars:\n",
    "        Stars.append(i.text)\n",
    "except NoSuchElementException:\n",
    "    Stars.append('NA')\n",
    "    \n",
    "    # Scraping votes via Xpath\n",
    "try:\n",
    "    votes=driver.find_elements(By.XPATH,\"//p[@class='sort-num_votes-visible']/span[2]\")\n",
    "    for i in votes:\n",
    "        Votes.append(i.text)\n",
    "except NoSuchElementException:\n",
    "    Votes.append('NA')\n",
    "    \n",
    " # Scraping genre via Xpath\n",
    "try:\n",
    "    genre=driver.find_elements(By.XPATH,\"//span[@class='genre']\")\n",
    "    for i in genre:\n",
    "        Genre.append(i.text)\n",
    "except NoSuchElementException:\n",
    "    Genre.append('NA')\n",
    "    \n",
    "     # Scraping Gross colection via Xpath\n",
    "try:\n",
    "    gross_collection=driver.find_elements(By.XPATH,\"//p[@class='sort-num_votes-visible']/span[5]\")\n",
    "    for i in gross_collection:\n",
    "        Gross_collection.append(i.text)\n",
    "except NoSuchElementException:\n",
    "    Gross_collection.append('NA')\n",
    "    \n",
    "    \n",
    "      \n",
    "    \n",
    "    \n",
    "     # Scraping Certification via Xpath\n",
    "try:\n",
    "    certification=driver.find_elements(By.XPATH,\"//span[@class='certificate']\")\n",
    "    for i in certification:\n",
    "        Certification.append(i.text)\n",
    "except NoSuchElementException:\n",
    "    Certification.append('NA')"
   ]
  },
  {
   "cell_type": "code",
   "execution_count": 18,
   "id": "a1e8997e",
   "metadata": {},
   "outputs": [
    {
     "name": "stdout",
     "output_type": "stream",
     "text": [
      "50 7 50 50 36 50\n"
     ]
    }
   ],
   "source": [
    "print(len(movie_Name),len(Stars),len(Votes),len(Genre),len(Gross_collection),len(Certification))"
   ]
  },
  {
   "cell_type": "code",
   "execution_count": 20,
   "id": "5a4cfc79",
   "metadata": {},
   "outputs": [
    {
     "name": "stdout",
     "output_type": "stream",
     "text": [
      "\u001b[1mThe second CSV file data contains  :\u001b[0m\n"
     ]
    },
    {
     "data": {
      "text/html": [
       "<div>\n",
       "<style scoped>\n",
       "    .dataframe tbody tr th:only-of-type {\n",
       "        vertical-align: middle;\n",
       "    }\n",
       "\n",
       "    .dataframe tbody tr th {\n",
       "        vertical-align: top;\n",
       "    }\n",
       "\n",
       "    .dataframe thead th {\n",
       "        text-align: right;\n",
       "    }\n",
       "</style>\n",
       "<table border=\"1\" class=\"dataframe\">\n",
       "  <thead>\n",
       "    <tr style=\"text-align: right;\">\n",
       "      <th></th>\n",
       "      <th>Stars</th>\n",
       "      <th>Votes</th>\n",
       "      <th>Genre</th>\n",
       "      <th>Gross_collection</th>\n",
       "      <th>Certification</th>\n",
       "    </tr>\n",
       "    <tr>\n",
       "      <th>movie_Name</th>\n",
       "      <th></th>\n",
       "      <th></th>\n",
       "      <th></th>\n",
       "      <th></th>\n",
       "      <th></th>\n",
       "    </tr>\n",
       "  </thead>\n",
       "  <tbody>\n",
       "    <tr>\n",
       "      <th>Spider-Man: Across the Spider-Verse</th>\n",
       "      <td>Joaquim Dos Santos</td>\n",
       "      <td>52,831</td>\n",
       "      <td>Animation, Action, Adventure</td>\n",
       "      <td>$534.86M</td>\n",
       "      <td>PG</td>\n",
       "    </tr>\n",
       "    <tr>\n",
       "      <th>The Dark Knight</th>\n",
       "      <td>Kemp Powers</td>\n",
       "      <td>2,720,209</td>\n",
       "      <td>Action, Crime, Drama</td>\n",
       "      <td>$377.85M</td>\n",
       "      <td>PG-13</td>\n",
       "    </tr>\n",
       "    <tr>\n",
       "      <th>The Lord of the Rings: The Return of the King</th>\n",
       "      <td>Justin K. Thompson</td>\n",
       "      <td>1,888,226</td>\n",
       "      <td>Action, Adventure, Drama</td>\n",
       "      <td>$292.58M</td>\n",
       "      <td>PG-13</td>\n",
       "    </tr>\n",
       "    <tr>\n",
       "      <th>Inception</th>\n",
       "      <td>Shameik Moore</td>\n",
       "      <td>2,414,641</td>\n",
       "      <td>Action, Adventure, Sci-Fi</td>\n",
       "      <td>$315.54M</td>\n",
       "      <td>PG-13</td>\n",
       "    </tr>\n",
       "    <tr>\n",
       "      <th>The Lord of the Rings: The Fellowship of the Ring</th>\n",
       "      <td>Hailee Steinfeld</td>\n",
       "      <td>1,916,841</td>\n",
       "      <td>Action, Adventure, Drama</td>\n",
       "      <td>$342.55M</td>\n",
       "      <td>PG-13</td>\n",
       "    </tr>\n",
       "  </tbody>\n",
       "</table>\n",
       "</div>"
      ],
      "text/plain": [
       "                                                                Stars  \\\n",
       "movie_Name                                                              \n",
       "Spider-Man: Across the Spider-Verse                Joaquim Dos Santos   \n",
       "The Dark Knight                                           Kemp Powers   \n",
       "The Lord of the Rings: The Return of the King      Justin K. Thompson   \n",
       "Inception                                               Shameik Moore   \n",
       "The Lord of the Rings: The Fellowship of the Ring    Hailee Steinfeld   \n",
       "\n",
       "                                                       Votes  \\\n",
       "movie_Name                                                     \n",
       "Spider-Man: Across the Spider-Verse                   52,831   \n",
       "The Dark Knight                                    2,720,209   \n",
       "The Lord of the Rings: The Return of the King      1,888,226   \n",
       "Inception                                          2,414,641   \n",
       "The Lord of the Rings: The Fellowship of the Ring  1,916,841   \n",
       "\n",
       "                                                                          Genre  \\\n",
       "movie_Name                                                                        \n",
       "Spider-Man: Across the Spider-Verse                Animation, Action, Adventure   \n",
       "The Dark Knight                                            Action, Crime, Drama   \n",
       "The Lord of the Rings: The Return of the King          Action, Adventure, Drama   \n",
       "Inception                                             Action, Adventure, Sci-Fi   \n",
       "The Lord of the Rings: The Fellowship of the Ring      Action, Adventure, Drama   \n",
       "\n",
       "                                                  Gross_collection  \\\n",
       "movie_Name                                                           \n",
       "Spider-Man: Across the Spider-Verse                       $534.86M   \n",
       "The Dark Knight                                           $377.85M   \n",
       "The Lord of the Rings: The Return of the King             $292.58M   \n",
       "Inception                                                 $315.54M   \n",
       "The Lord of the Rings: The Fellowship of the Ring         $342.55M   \n",
       "\n",
       "                                                  Certification  \n",
       "movie_Name                                                       \n",
       "Spider-Man: Across the Spider-Verse                          PG  \n",
       "The Dark Knight                                           PG-13  \n",
       "The Lord of the Rings: The Return of the King             PG-13  \n",
       "Inception                                                 PG-13  \n",
       "The Lord of the Rings: The Fellowship of the Ring         PG-13  "
      ]
     },
     "execution_count": 20,
     "metadata": {},
     "output_type": "execute_result"
    }
   ],
   "source": [
    "#creating dataframe\n",
    "seconddata=pd.DataFrame({\"movie_Name\":movie_Name[:5],\n",
    "                'Stars': Stars[:5],\n",
    "                'Votes': Votes[:5],\n",
    "                'Genre': Genre[:5],\n",
    "                'Gross_collection': Gross_collection[:5],\n",
    "                'Certification': Certification[:5]}).set_index('movie_Name')\n",
    "print('\\033[1m'+'The second CSV file data contains  :'+'\\033[0m')\n",
    "seconddata"
   ]
  },
  {
   "cell_type": "code",
   "execution_count": 21,
   "id": "6350ba51",
   "metadata": {},
   "outputs": [],
   "source": [
    "seconddata.to_csv('seconddata.csv')"
   ]
  },
  {
   "cell_type": "code",
   "execution_count": 22,
   "id": "454088ab",
   "metadata": {},
   "outputs": [],
   "source": [
    "# Closing the driver\n",
    "driver.close()"
   ]
  },
  {
   "cell_type": "code",
   "execution_count": null,
   "id": "cfddc989",
   "metadata": {},
   "outputs": [],
   "source": []
  }
 ],
 "metadata": {
  "kernelspec": {
   "display_name": "Python 3 (ipykernel)",
   "language": "python",
   "name": "python3"
  },
  "language_info": {
   "codemirror_mode": {
    "name": "ipython",
    "version": 3
   },
   "file_extension": ".py",
   "mimetype": "text/x-python",
   "name": "python",
   "nbconvert_exporter": "python",
   "pygments_lexer": "ipython3",
   "version": "3.9.12"
  }
 },
 "nbformat": 4,
 "nbformat_minor": 5
}
